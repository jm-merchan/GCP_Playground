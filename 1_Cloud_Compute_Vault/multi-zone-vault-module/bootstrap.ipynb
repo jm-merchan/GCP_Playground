{
 "cells": [
  {
   "cell_type": "markdown",
   "metadata": {},
   "source": [
    "# Option 1. Initialize without telemetry"
   ]
  },
  {
   "cell_type": "markdown",
   "metadata": {},
   "source": [
    "* For first cluster"
   ]
  },
  {
   "cell_type": "code",
   "execution_count": 22,
   "metadata": {},
   "outputs": [
    {
     "name": "stdout",
     "output_type": "stream",
     "text": [
      "  # Initialize Vault\n",
      "export VAULT_ADDR=https://vault-eu-primary-europe-west1-cqnb.josemerchan-8d4c7e.gcp.sbx.hashicorpdemo.com:8200\n",
      "export SKIP_TLS_VERIFY=true\n",
      "vault operator init -format=json > output.json\n",
      "cat output.json | jq -r .root_token > root.token\n",
      "export VAULT_TOKEN=$(cat root.token)\n",
      "sleep 10\n",
      "\n",
      "# Save info in GCP Secrets\n",
      "gcloud secrets create root_token_europe-west1_cqnb --replication-policy=\"automatic\" --project=hc-481920a3f7e54d39b33d0454ff9\n",
      "echo -n $VAULT_TOKEN | gcloud secrets versions add root_token_europe-west1_cqnb --project=hc-481920a3f7e54d39b33d0454ff9 --data-file=-\n",
      "gcloud secrets create vault_init_data_europe-west1_cqnb --replication-policy=\"automatic\" --project=hc-481920a3f7e54d39b33d0454ff9\n",
      "cat output.json | gcloud secrets versions add vault_init_data_europe-west1_cqnb --project=hc-481920a3f7e54d39b33d0454ff9 --data-file=-\n",
      "rm output.json\n",
      "rm root.token\n",
      "\n",
      "# Enable Audit Logging\n",
      "vault audit enable file file_path=/var/log/vault.log\n",
      "\n",
      "# Enable Dead Server clean-up, min-quorum should be set in accordance to cluster size\n",
      "vault operator raft autopilot set-config -cleanup-dead-servers=true -dead-server-last-contact-threshold=1m -min-quorum=3\n",
      "\n",
      "# Enable automatic snapshot\n",
      "gcloud iam service-accounts keys create sa-keys__europe-west1_cqnb.json --iam-account=iam-vault-cqnb@hc-481920a3f7e54d39b33d0454ff9.iam.gserviceaccount.com\n",
      "vault write sys/storage/raft/snapshot-auto/config/hourly interval=\"1h\" retain=10 path_prefix=\"snapshots/\" storage_type=google-gcs google_gcs_bucket=gcs-vault-snapshot-cqnb google_service_account_key=\"@sa-keys__europe-west1_cqnb.json\"\n",
      "\n"
     ]
    },
    {
     "name": "stderr",
     "output_type": "stream",
     "text": [
      "Created secret [root_token_europe-west1_cqnb].\n",
      "Created version [1] of the secret [root_token_europe-west1_cqnb].\n",
      "Created secret [vault_init_data_europe-west1_cqnb].\n",
      "Created version [1] of the secret [vault_init_data_europe-west1_cqnb].\n"
     ]
    },
    {
     "name": "stdout",
     "output_type": "stream",
     "text": [
      "Success! Enabled the file audit device at: file/\n"
     ]
    },
    {
     "name": "stderr",
     "output_type": "stream",
     "text": [
      "created key [10a18e5f87bae8fc750ed27b5db78b6d6064898c] of type [json] as [sa-keys__europe-west1_cqnb.json] for [iam-vault-cqnb@hc-481920a3f7e54d39b33d0454ff9.iam.gserviceaccount.com]\n"
     ]
    },
    {
     "name": "stdout",
     "output_type": "stream",
     "text": [
      "Success! Data written to: sys/storage/raft/snapshot-auto/config/hourly\n"
     ]
    }
   ],
   "source": [
    "%%bash\n",
    "terraform output -raw cluster1_init_remote\n",
    "eval \"$(terraform output -raw cluster1_init_remote)\""
   ]
  },
  {
   "cell_type": "markdown",
   "metadata": {},
   "source": [
    "* For second cluster"
   ]
  },
  {
   "cell_type": "code",
   "execution_count": 23,
   "metadata": {},
   "outputs": [
    {
     "name": "stdout",
     "output_type": "stream",
     "text": [
      "  # Initialize Vault\n",
      "export VAULT_ADDR=https://vault-eu-secondary-europe-west1-iovc.josemerchan-8d4c7e.gcp.sbx.hashicorpdemo.com:8200\n",
      "export SKIP_TLS_VERIFY=true\n",
      "vault operator init -format=json > output.json\n",
      "cat output.json | jq -r .root_token > root.token\n",
      "export VAULT_TOKEN=$(cat root.token)\n",
      "sleep 10\n",
      "\n",
      "# Save info in GCP Secrets\n",
      "gcloud secrets create root_token_europe-west1_iovc --replication-policy=\"automatic\" --project=hc-481920a3f7e54d39b33d0454ff9\n",
      "echo -n $VAULT_TOKEN | gcloud secrets versions add root_token_europe-west1_iovc --project=hc-481920a3f7e54d39b33d0454ff9 --data-file=-\n",
      "gcloud secrets create vault_init_data_europe-west1_iovc --replication-policy=\"automatic\" --project=hc-481920a3f7e54d39b33d0454ff9\n",
      "cat output.json | gcloud secrets versions add vault_init_data_europe-west1_iovc --project=hc-481920a3f7e54d39b33d0454ff9 --data-file=-\n",
      "rm output.json\n",
      "rm root.token\n",
      "\n",
      "# Enable Audit Logging\n",
      "vault audit enable file file_path=/var/log/vault.log\n",
      "\n",
      "# Enable Dead Server clean-up, min-quorum should be set in accordance to cluster size\n",
      "vault operator raft autopilot set-config -cleanup-dead-servers=true -dead-server-last-contact-threshold=1m -min-quorum=3\n",
      "\n",
      "# Enable automatic snapshot\n",
      "gcloud iam service-accounts keys create sa-keys__europe-west1_iovc.json --iam-account=iam-vault-iovc@hc-481920a3f7e54d39b33d0454ff9.iam.gserviceaccount.com\n",
      "vault write sys/storage/raft/snapshot-auto/config/hourly interval=\"1h\" retain=10 path_prefix=\"snapshots/\" storage_type=google-gcs google_gcs_bucket=gcs-vault-snapshot-iovc google_service_account_key=\"@sa-keys__europe-west1_iovc.json\"\n",
      "\n"
     ]
    },
    {
     "name": "stderr",
     "output_type": "stream",
     "text": [
      "Error initializing: Put \"https://vault-eu-secondary-europe-west1-iovc.josemerchan-8d4c7e.gcp.sbx.hashicorpdemo.com:8200/v1/sys/init\": unexpected EOF\n",
      "Created secret [root_token_europe-west1_iovc].\n",
      "ERROR: (gcloud.secrets.versions.add) INVALID_ARGUMENT: Secret Payload cannot be empty.\n",
      "Created secret [vault_init_data_europe-west1_iovc].\n",
      "ERROR: (gcloud.secrets.versions.add) INVALID_ARGUMENT: Secret Payload cannot be empty.\n",
      "Error enabling audit device: Error making API request.\n",
      "\n",
      "URL: PUT https://vault-eu-secondary-europe-west1-iovc.josemerchan-8d4c7e.gcp.sbx.hashicorpdemo.com:8200/v1/sys/audit/file\n",
      "Code: 403. Errors:\n",
      "\n",
      "* 2 errors occurred:\n",
      "\t* permission denied\n",
      "\t* invalid token\n",
      "\n",
      "\n",
      "Error making API request.\n",
      "\n",
      "URL: PUT https://vault-eu-secondary-europe-west1-iovc.josemerchan-8d4c7e.gcp.sbx.hashicorpdemo.com:8200/v1/sys/storage/raft/autopilot/configuration\n",
      "Code: 403. Errors:\n",
      "\n",
      "* 2 errors occurred:\n",
      "\t* permission denied\n",
      "\t* invalid token\n",
      "\n",
      "\n",
      "created key [df0b7bf8c341bf4140a55aad51504cefd7ff0b05] of type [json] as [sa-keys__europe-west1_iovc.json] for [iam-vault-iovc@hc-481920a3f7e54d39b33d0454ff9.iam.gserviceaccount.com]\n",
      "Error writing data to sys/storage/raft/snapshot-auto/config/hourly: Error making API request.\n",
      "\n",
      "URL: PUT https://vault-eu-secondary-europe-west1-iovc.josemerchan-8d4c7e.gcp.sbx.hashicorpdemo.com:8200/v1/sys/storage/raft/snapshot-auto/config/hourly\n",
      "Code: 403. Errors:\n",
      "\n",
      "* 2 errors occurred:\n",
      "\t* permission denied\n",
      "\t* invalid token\n",
      "\n",
      "\n"
     ]
    },
    {
     "ename": "CalledProcessError",
     "evalue": "Command 'b'terraform output -raw cluster2_init_remote\\neval \"$(terraform output -raw cluster2_init_remote)\"\\n'' returned non-zero exit status 2.",
     "output_type": "error",
     "traceback": [
      "\u001b[0;31m---------------------------------------------------------------------------\u001b[0m",
      "\u001b[0;31mCalledProcessError\u001b[0m                        Traceback (most recent call last)",
      "Input \u001b[0;32mIn [23]\u001b[0m, in \u001b[0;36m<cell line: 1>\u001b[0;34m()\u001b[0m\n\u001b[0;32m----> 1\u001b[0m \u001b[43mget_ipython\u001b[49m\u001b[43m(\u001b[49m\u001b[43m)\u001b[49m\u001b[38;5;241;43m.\u001b[39;49m\u001b[43mrun_cell_magic\u001b[49m\u001b[43m(\u001b[49m\u001b[38;5;124;43m'\u001b[39;49m\u001b[38;5;124;43mbash\u001b[39;49m\u001b[38;5;124;43m'\u001b[39;49m\u001b[43m,\u001b[49m\u001b[43m \u001b[49m\u001b[38;5;124;43m'\u001b[39;49m\u001b[38;5;124;43m'\u001b[39;49m\u001b[43m,\u001b[49m\u001b[43m \u001b[49m\u001b[38;5;124;43m'\u001b[39;49m\u001b[38;5;124;43mterraform output -raw cluster2_init_remote\u001b[39;49m\u001b[38;5;130;43;01m\\n\u001b[39;49;00m\u001b[38;5;124;43meval \u001b[39;49m\u001b[38;5;124;43m\"\u001b[39;49m\u001b[38;5;124;43m$(terraform output -raw cluster2_init_remote)\u001b[39;49m\u001b[38;5;124;43m\"\u001b[39;49m\u001b[38;5;130;43;01m\\n\u001b[39;49;00m\u001b[38;5;124;43m'\u001b[39;49m\u001b[43m)\u001b[49m\n",
      "File \u001b[0;32m~/opt/anaconda3/lib/python3.9/site-packages/IPython/core/interactiveshell.py:2358\u001b[0m, in \u001b[0;36mInteractiveShell.run_cell_magic\u001b[0;34m(self, magic_name, line, cell)\u001b[0m\n\u001b[1;32m   2356\u001b[0m \u001b[38;5;28;01mwith\u001b[39;00m \u001b[38;5;28mself\u001b[39m\u001b[38;5;241m.\u001b[39mbuiltin_trap:\n\u001b[1;32m   2357\u001b[0m     args \u001b[38;5;241m=\u001b[39m (magic_arg_s, cell)\n\u001b[0;32m-> 2358\u001b[0m     result \u001b[38;5;241m=\u001b[39m \u001b[43mfn\u001b[49m\u001b[43m(\u001b[49m\u001b[38;5;241;43m*\u001b[39;49m\u001b[43margs\u001b[49m\u001b[43m,\u001b[49m\u001b[43m \u001b[49m\u001b[38;5;241;43m*\u001b[39;49m\u001b[38;5;241;43m*\u001b[39;49m\u001b[43mkwargs\u001b[49m\u001b[43m)\u001b[49m\n\u001b[1;32m   2359\u001b[0m \u001b[38;5;28;01mreturn\u001b[39;00m result\n",
      "File \u001b[0;32m~/opt/anaconda3/lib/python3.9/site-packages/IPython/core/magics/script.py:153\u001b[0m, in \u001b[0;36mScriptMagics._make_script_magic.<locals>.named_script_magic\u001b[0;34m(line, cell)\u001b[0m\n\u001b[1;32m    151\u001b[0m \u001b[38;5;28;01melse\u001b[39;00m:\n\u001b[1;32m    152\u001b[0m     line \u001b[38;5;241m=\u001b[39m script\n\u001b[0;32m--> 153\u001b[0m \u001b[38;5;28;01mreturn\u001b[39;00m \u001b[38;5;28;43mself\u001b[39;49m\u001b[38;5;241;43m.\u001b[39;49m\u001b[43mshebang\u001b[49m\u001b[43m(\u001b[49m\u001b[43mline\u001b[49m\u001b[43m,\u001b[49m\u001b[43m \u001b[49m\u001b[43mcell\u001b[49m\u001b[43m)\u001b[49m\n",
      "File \u001b[0;32m~/opt/anaconda3/lib/python3.9/site-packages/IPython/core/magics/script.py:305\u001b[0m, in \u001b[0;36mScriptMagics.shebang\u001b[0;34m(self, line, cell)\u001b[0m\n\u001b[1;32m    300\u001b[0m \u001b[38;5;28;01mif\u001b[39;00m args\u001b[38;5;241m.\u001b[39mraise_error \u001b[38;5;129;01mand\u001b[39;00m p\u001b[38;5;241m.\u001b[39mreturncode \u001b[38;5;241m!=\u001b[39m \u001b[38;5;241m0\u001b[39m:\n\u001b[1;32m    301\u001b[0m     \u001b[38;5;66;03m# If we get here and p.returncode is still None, we must have\u001b[39;00m\n\u001b[1;32m    302\u001b[0m     \u001b[38;5;66;03m# killed it but not yet seen its return code. We don't wait for it,\u001b[39;00m\n\u001b[1;32m    303\u001b[0m     \u001b[38;5;66;03m# in case it's stuck in uninterruptible sleep. -9 = SIGKILL\u001b[39;00m\n\u001b[1;32m    304\u001b[0m     rc \u001b[38;5;241m=\u001b[39m p\u001b[38;5;241m.\u001b[39mreturncode \u001b[38;5;129;01mor\u001b[39;00m \u001b[38;5;241m-\u001b[39m\u001b[38;5;241m9\u001b[39m\n\u001b[0;32m--> 305\u001b[0m     \u001b[38;5;28;01mraise\u001b[39;00m CalledProcessError(rc, cell)\n",
      "\u001b[0;31mCalledProcessError\u001b[0m: Command 'b'terraform output -raw cluster2_init_remote\\neval \"$(terraform output -raw cluster2_init_remote)\"\\n'' returned non-zero exit status 2."
     ]
    }
   ],
   "source": [
    "%%bash\n",
    "terraform output -raw cluster2_init_remote\n",
    "eval \"$(terraform output -raw cluster2_init_remote)\""
   ]
  },
  {
   "cell_type": "markdown",
   "metadata": {},
   "source": [
    "# Option 2. Initialize with telemetry"
   ]
  },
  {
   "cell_type": "markdown",
   "metadata": {},
   "source": [
    "* Initialize the first cluster. Requires SSH access via console.\n",
    "* Enable Audit logging\n",
    "* Obtain a token and configure the agent to use it"
   ]
  },
  {
   "cell_type": "code",
   "execution_count": 7,
   "metadata": {},
   "outputs": [
    {
     "name": "stdout",
     "output_type": "stream",
     "text": [
      "\n",
      "# Initialize Vault\n",
      "vault status # wait for vault to show as unsealed\n",
      "\n",
      "vault operator init -format=json > output.json\n",
      "cat output.json | jq -r .root_token > root.token\n",
      "export VAULT_TOKEN=$(cat root.token)\n",
      "\n",
      "# Save info in GCP Secrets\n",
      "gcloud secrets create root_token_europe-west1_1toq --replication-policy=\"automatic\"\n",
      "echo -n $VAULT_TOKEN | gcloud secrets versions add root_token_europe-west1_1toq --data-file=-\n",
      "gcloud secrets create vault_init_data_europe-west1_1toq --replication-policy=\"automatic\"\n",
      "cat output.json | gcloud secrets versions add vault_init_data_europe-west1_1toq --data-file=-\n",
      "\n",
      "# Enable Audit Logging\n",
      "vault audit enable file file_path=/var/log/vault.log\n",
      "\n",
      "# Create Prometheus token and update Ops Agent Configuration with Token\n",
      "vault policy write prometheus-metrics /opt/vault/prometheus.hcl\n",
      "vault token create -field=token -policy prometheus-metrics > prometheus.token\n",
      "export PROMETHEUS_TOKEN=$(cat prometheus.token)\n",
      "sudo sed -ibak \"s/VAULT_TOKEN_PROMETHEUS/$PROMETHEUS_TOKEN/g\" /etc/google-cloud-ops-agent/config.yaml\n",
      "sudo systemctl restart google-cloud-ops-agent\n",
      "\n",
      "# Enable Dead Server clean-up, min-quorum should be set in accordance to cluster size\n",
      "vault operator raft autopilot set-config -cleanup-dead-servers=true -dead-server-last-contact-threshold=1m -min-quorum=3\n",
      "\n"
     ]
    }
   ],
   "source": [
    "%%bash\n",
    "terraform output -raw cluster1_init_script_node1"
   ]
  },
  {
   "cell_type": "markdown",
   "metadata": {},
   "source": [
    "* Obtain token for Ops Agent\n",
    "* Restart Ops Agent Service\n",
    "* Repeat on nodes 2 to X"
   ]
  },
  {
   "cell_type": "code",
   "execution_count": 8,
   "metadata": {},
   "outputs": [
    {
     "name": "stdout",
     "output_type": "stream",
     "text": [
      "\n",
      "# Obtain root token\n",
      "export VAULT_TOKEN=$(gcloud secrets versions access latest --secret=root_token_europe-west1_1toq)\n",
      "\n",
      "# Create Prometheus token and update Ops Agent Configuration with Token\n",
      "vault token create -field=token -policy prometheus-metrics > prometheus.token\n",
      "export PROMETHEUS_TOKEN=$(cat prometheus.token)\n",
      "sudo sed -ibak \"s/VAULT_TOKEN_PROMETHEUS/$PROMETHEUS_TOKEN/g\" /etc/google-cloud-ops-agent/config.yaml\n",
      "sudo systemctl restart google-cloud-ops-agent\n",
      "\n"
     ]
    }
   ],
   "source": [
    "%%bash\n",
    "terraform output -raw cluster1_init_script_node2-X"
   ]
  },
  {
   "cell_type": "markdown",
   "metadata": {},
   "source": [
    "* Enable Automatic Backups on local terminal"
   ]
  },
  {
   "cell_type": "code",
   "execution_count": 11,
   "metadata": {},
   "outputs": [
    {
     "name": "stdout",
     "output_type": "stream",
     "text": [
      "\n",
      "# From your terminal\n",
      "# Enable automatic snapshots\n",
      "export VAULT_TOKEN=$(gcloud secrets versions access latest --secret=root_token_europe-west1_1toq --project=hc-481920a3f7e54d39b33d0454ff9)\n",
      "gcloud iam service-accounts keys create sa-keys__europe-west1_1toq.json --iam-account=iam-vault-1toq@hc-481920a3f7e54d39b33d0454ff9.iam.gserviceaccount.com\n",
      "VAULT_ADDR=https://vault-eu-primary-europe-west1-1toq.josemerchan-8d4c7e.gcp.sbx.hashicorpdemo.com:8200 vault write sys/storage/raft/snapshot-auto/config/hourly interval=\"1h\" retain=10 path_prefix=\"snapshots/\" storage_type=google-gcs google_gcs_bucket=gcs-vault-snapshot-1toq google_service_account_key=\"@sa-keys__europe-west1_1toq.json\"\n",
      "\n"
     ]
    }
   ],
   "source": [
    "%%bash\n",
    "terraform output -raw cluster1_init_auto_snapshot"
   ]
  },
  {
   "cell_type": "markdown",
   "metadata": {},
   "source": [
    "* Connect to cluster"
   ]
  },
  {
   "cell_type": "code",
   "execution_count": 17,
   "metadata": {},
   "outputs": [
    {
     "name": "stdout",
     "output_type": "stream",
     "text": [
      "https://vault-eu-primary-europe-west1-1toq.josemerchan-8d4c7e.gcp.sbx.hashicorpdemo.com:8200"
     ]
    }
   ],
   "source": [
    "%%bash\n",
    "terraform output -raw cluster1_fqdn_8200"
   ]
  },
  {
   "cell_type": "markdown",
   "metadata": {},
   "source": [
    "* Repeat for other clusters"
   ]
  },
  {
   "cell_type": "code",
   "execution_count": 12,
   "metadata": {},
   "outputs": [
    {
     "name": "stdout",
     "output_type": "stream",
     "text": [
      "\n",
      "# Initialize Vault\n",
      "vault status # wait for vault to show as unsealed\n",
      "\n",
      "vault operator init -format=json > output.json\n",
      "cat output.json | jq -r .root_token > root.token\n",
      "export VAULT_TOKEN=$(cat root.token)\n",
      "\n",
      "# Save info in GCP Secrets\n",
      "gcloud secrets create root_token_europe-west1_ndcj --replication-policy=\"automatic\"\n",
      "echo -n $VAULT_TOKEN | gcloud secrets versions add root_token_europe-west1_ndcj --data-file=-\n",
      "gcloud secrets create vault_init_data_europe-west1_ndcj --replication-policy=\"automatic\"\n",
      "cat output.json | gcloud secrets versions add vault_init_data_europe-west1_ndcj --data-file=-\n",
      "\n",
      "# Enable Audit Logging\n",
      "vault audit enable file file_path=/var/log/vault.log\n",
      "\n",
      "# Create Prometheus token and update Ops Agent Configuration with Token\n",
      "vault policy write prometheus-metrics /opt/vault/prometheus.hcl\n",
      "vault token create -field=token -policy prometheus-metrics > prometheus.token\n",
      "export PROMETHEUS_TOKEN=$(cat prometheus.token)\n",
      "sudo sed -ibak \"s/VAULT_TOKEN_PROMETHEUS/$PROMETHEUS_TOKEN/g\" /etc/google-cloud-ops-agent/config.yaml\n",
      "sudo systemctl restart google-cloud-ops-agent\n",
      "\n",
      "# Enable Dead Server clean-up, min-quorum should be set in accordance to cluster size\n",
      "vault operator raft autopilot set-config -cleanup-dead-servers=true -dead-server-last-contact-threshold=1m -min-quorum=3\n",
      "\n"
     ]
    }
   ],
   "source": [
    "%%bash\n",
    "terraform output -raw cluster2_init_script_node1"
   ]
  },
  {
   "cell_type": "code",
   "execution_count": 13,
   "metadata": {},
   "outputs": [
    {
     "name": "stdout",
     "output_type": "stream",
     "text": [
      "\n",
      "# Obtain root token\n",
      "export VAULT_TOKEN=$(gcloud secrets versions access latest --secret=root_token_europe-west1_ndcj)\n",
      "\n",
      "# Create Prometheus token and update Ops Agent Configuration with Token\n",
      "vault token create -field=token -policy prometheus-metrics > prometheus.token\n",
      "export PROMETHEUS_TOKEN=$(cat prometheus.token)\n",
      "sudo sed -ibak \"s/VAULT_TOKEN_PROMETHEUS/$PROMETHEUS_TOKEN/g\" /etc/google-cloud-ops-agent/config.yaml\n",
      "sudo systemctl restart google-cloud-ops-agent\n",
      "\n"
     ]
    }
   ],
   "source": [
    "%%bash\n",
    "terraform output -raw cluster2_init_script_node2-X"
   ]
  },
  {
   "cell_type": "code",
   "execution_count": 14,
   "metadata": {},
   "outputs": [
    {
     "name": "stdout",
     "output_type": "stream",
     "text": [
      "\n",
      "# From your terminal\n",
      "# Enable automatic snapshots\n",
      "export VAULT_TOKEN=$(gcloud secrets versions access latest --secret=root_token_europe-west1_ndcj --project=hc-481920a3f7e54d39b33d0454ff9)\n",
      "gcloud iam service-accounts keys create sa-keys__europe-west1_ndcj.json --iam-account=iam-vault-ndcj@hc-481920a3f7e54d39b33d0454ff9.iam.gserviceaccount.com\n",
      "VAULT_ADDR=https://vault-eu-secondary-europe-west1-ndcj.josemerchan-8d4c7e.gcp.sbx.hashicorpdemo.com:8200 vault write sys/storage/raft/snapshot-auto/config/hourly interval=\"1h\" retain=10 path_prefix=\"snapshots/\" storage_type=google-gcs google_gcs_bucket=gcs-vault-snapshot-ndcj google_service_account_key=\"@sa-keys__europe-west1_ndcj.json\"\n",
      "\n"
     ]
    }
   ],
   "source": [
    "%%bash\n",
    "terraform output -raw cluster2_init_auto_snapshot"
   ]
  },
  {
   "cell_type": "markdown",
   "metadata": {},
   "source": [
    "* Connect to cluster"
   ]
  },
  {
   "cell_type": "code",
   "execution_count": 18,
   "metadata": {},
   "outputs": [
    {
     "name": "stdout",
     "output_type": "stream",
     "text": [
      "https://vault-eu-secondary-europe-west1-ndcj.josemerchan-8d4c7e.gcp.sbx.hashicorpdemo.com:8200"
     ]
    }
   ],
   "source": [
    "%%bash\n",
    "terraform output -raw cluster2_fqdn_8200"
   ]
  }
 ],
 "metadata": {
  "kernelspec": {
   "display_name": "base",
   "language": "python",
   "name": "python3"
  },
  "language_info": {
   "codemirror_mode": {
    "name": "ipython",
    "version": 3
   },
   "file_extension": ".py",
   "mimetype": "text/x-python",
   "name": "python",
   "nbconvert_exporter": "python",
   "pygments_lexer": "ipython3",
   "version": "3.9.13"
  }
 },
 "nbformat": 4,
 "nbformat_minor": 2
}
