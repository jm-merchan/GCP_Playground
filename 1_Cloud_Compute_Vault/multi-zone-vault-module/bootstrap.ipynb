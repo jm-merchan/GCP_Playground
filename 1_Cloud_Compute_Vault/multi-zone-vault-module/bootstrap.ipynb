{
 "cells": [
  {
   "cell_type": "markdown",
   "metadata": {},
   "source": [
    "# Option 1. Initialize without telemetry"
   ]
  },
  {
   "cell_type": "markdown",
   "metadata": {},
   "source": [
    "* For first cluster"
   ]
  },
  {
   "cell_type": "code",
   "execution_count": 32,
   "metadata": {},
   "outputs": [
    {
     "name": "stdout",
     "output_type": "stream",
     "text": [
      "# Initialize Vault\n",
      "export VAULT_ADDR=https://vault-eu-primary-europe-west1-ho5u.josemerchan-8d4c7e.gcp.sbx.hashicorpdemo.com:8200\n",
      "export SKIP_TLS_VERIFY=true\n",
      "vault status\n",
      "curl -k $VAULT_ADDR\n",
      "\n",
      "vault operator init -format=json > output.json\n",
      "cat output.json | jq -r .root_token > root.token\n",
      "export VAULT_TOKEN=$(cat root.token)\n",
      "sleep 10\n",
      "\n",
      "# Save info in GCP Secrets\n",
      "gcloud secrets create root_token_europe-west1_ho5u --replication-policy=\"automatic\" --project=hc-481920a3f7e54d39b33d0454ff9\n",
      "echo -n $VAULT_TOKEN | gcloud secrets versions add root_token_europe-west1_ho5u --project=hc-481920a3f7e54d39b33d0454ff9 --data-file=-\n",
      "gcloud secrets create vault_init_data_europe-west1_ho5u --replication-policy=\"automatic\" --project=hc-481920a3f7e54d39b33d0454ff9\n",
      "cat output.json | gcloud secrets versions add vault_init_data_europe-west1_ho5u --project=hc-481920a3f7e54d39b33d0454ff9 --data-file=-\n",
      "rm output.json\n",
      "rm root.token\n",
      "\n",
      "# Enable Audit Logging\n",
      "vault audit enable file file_path=/var/log/vault.log\n",
      "\n",
      "# Enable Dead Server clean-up, min-quorum should be set in accordance to cluster size\n",
      "vault operator raft autopilot set-config -cleanup-dead-servers=true -dead-server-last-contact-threshold=1m -min-quorum=3\n",
      "\n",
      "# Enable automatic snapshot\n",
      "gcloud iam service-accounts keys create sa-keys__europe-west1_ho5u.json --iam-account=iam-vault-ho5u@hc-481920a3f7e54d39b33d0454ff9.iam.gserviceaccount.com\n",
      "vault write sys/storage/raft/snapshot-auto/config/hourly interval=\"1h\" retain=10 path_prefix=\"snapshots/\" storage_type=google-gcs google_gcs_bucket=gcs-vault-snapshot-ho5u google_service_account_key=\"@sa-keys__europe-west1_ho5u.json\"\n",
      "\n",
      "Key                      Value\n",
      "---                      -----\n",
      "Recovery Seal Type       gcpckms\n",
      "Initialized              false\n",
      "Sealed                   true\n",
      "Total Recovery Shares    0\n",
      "Threshold                0\n",
      "Unseal Progress          0/0\n",
      "Unseal Nonce             n/a\n",
      "Version                  1.17.5+ent\n",
      "Build Date               2024-08-30T15:55:00Z\n",
      "Storage Type             raft\n",
      "HA Enabled               true\n"
     ]
    },
    {
     "name": "stderr",
     "output_type": "stream",
     "text": [
      "  % Total    % Received % Xferd  Average Speed   Time    Time     Time  Current\n",
      "                                 Dload  Upload   Total   Spent    Left  Speed\n",
      "100    40  100    40    0     0    359      0 --:--:-- --:--:-- --:--:--   388\n"
     ]
    },
    {
     "name": "stdout",
     "output_type": "stream",
     "text": [
      "<a href=\"/ui/\">Temporary Redirect</a>.\n",
      "\n"
     ]
    },
    {
     "name": "stderr",
     "output_type": "stream",
     "text": [
      "Created secret [root_token_europe-west1_ho5u].\n",
      "Created version [1] of the secret [root_token_europe-west1_ho5u].\n",
      "Created secret [vault_init_data_europe-west1_ho5u].\n",
      "Created version [1] of the secret [vault_init_data_europe-west1_ho5u].\n"
     ]
    },
    {
     "name": "stdout",
     "output_type": "stream",
     "text": [
      "Success! Enabled the file audit device at: file/\n"
     ]
    },
    {
     "name": "stderr",
     "output_type": "stream",
     "text": [
      "created key [eddcc57f630a71504a08f84781734a5c30b2c679] of type [json] as [sa-keys__europe-west1_ho5u.json] for [iam-vault-ho5u@hc-481920a3f7e54d39b33d0454ff9.iam.gserviceaccount.com]\n"
     ]
    },
    {
     "name": "stdout",
     "output_type": "stream",
     "text": [
      "Success! Data written to: sys/storage/raft/snapshot-auto/config/hourly\n"
     ]
    }
   ],
   "source": [
    "%%bash\n",
    "terraform output -raw cluster1_init_remote\n",
    "eval \"$(terraform output -raw cluster1_init_remote)\""
   ]
  },
  {
   "cell_type": "markdown",
   "metadata": {},
   "source": [
    "* For second cluster"
   ]
  },
  {
   "cell_type": "code",
   "execution_count": 33,
   "metadata": {},
   "outputs": [
    {
     "name": "stdout",
     "output_type": "stream",
     "text": [
      "# Initialize Vault\n",
      "export VAULT_ADDR=https://vault-eu-secondary-europe-west1-p3mi.josemerchan-8d4c7e.gcp.sbx.hashicorpdemo.com:8200\n",
      "export SKIP_TLS_VERIFY=true\n",
      "vault status\n",
      "curl -k $VAULT_ADDR\n",
      "\n",
      "vault operator init -format=json > output.json\n",
      "cat output.json | jq -r .root_token > root.token\n",
      "export VAULT_TOKEN=$(cat root.token)\n",
      "sleep 10\n",
      "\n",
      "# Save info in GCP Secrets\n",
      "gcloud secrets create root_token_europe-west1_p3mi --replication-policy=\"automatic\" --project=hc-481920a3f7e54d39b33d0454ff9\n",
      "echo -n $VAULT_TOKEN | gcloud secrets versions add root_token_europe-west1_p3mi --project=hc-481920a3f7e54d39b33d0454ff9 --data-file=-\n",
      "gcloud secrets create vault_init_data_europe-west1_p3mi --replication-policy=\"automatic\" --project=hc-481920a3f7e54d39b33d0454ff9\n",
      "cat output.json | gcloud secrets versions add vault_init_data_europe-west1_p3mi --project=hc-481920a3f7e54d39b33d0454ff9 --data-file=-\n",
      "rm output.json\n",
      "rm root.token\n",
      "\n",
      "# Enable Audit Logging\n",
      "vault audit enable file file_path=/var/log/vault.log\n",
      "\n",
      "# Enable Dead Server clean-up, min-quorum should be set in accordance to cluster size\n",
      "vault operator raft autopilot set-config -cleanup-dead-servers=true -dead-server-last-contact-threshold=1m -min-quorum=3\n",
      "\n",
      "# Enable automatic snapshot\n",
      "gcloud iam service-accounts keys create sa-keys__europe-west1_p3mi.json --iam-account=iam-vault-p3mi@hc-481920a3f7e54d39b33d0454ff9.iam.gserviceaccount.com\n",
      "vault write sys/storage/raft/snapshot-auto/config/hourly interval=\"1h\" retain=10 path_prefix=\"snapshots/\" storage_type=google-gcs google_gcs_bucket=gcs-vault-snapshot-p3mi google_service_account_key=\"@sa-keys__europe-west1_p3mi.json\"\n",
      "\n",
      "Key                      Value\n",
      "---                      -----\n",
      "Recovery Seal Type       gcpckms\n",
      "Initialized              false\n",
      "Sealed                   true\n",
      "Total Recovery Shares    0\n",
      "Threshold                0\n",
      "Unseal Progress          0/0\n",
      "Unseal Nonce             n/a\n",
      "Version                  1.17.5+ent\n",
      "Build Date               2024-08-30T15:55:00Z\n",
      "Storage Type             raft\n",
      "HA Enabled               true\n"
     ]
    },
    {
     "name": "stderr",
     "output_type": "stream",
     "text": [
      "  % Total    % Received % Xferd  Average Speed   Time    Time     Time  Current\n",
      "                                 Dload  Upload   Total   Spent    Left  Speed\n",
      "100    40  100    40    0     0    377      0 --:--:-- --:--:-- --:--:--   388\n"
     ]
    },
    {
     "name": "stdout",
     "output_type": "stream",
     "text": [
      "<a href=\"/ui/\">Temporary Redirect</a>.\n",
      "\n"
     ]
    },
    {
     "name": "stderr",
     "output_type": "stream",
     "text": [
      "Created secret [root_token_europe-west1_p3mi].\n",
      "Created version [1] of the secret [root_token_europe-west1_p3mi].\n",
      "Created secret [vault_init_data_europe-west1_p3mi].\n",
      "Created version [1] of the secret [vault_init_data_europe-west1_p3mi].\n"
     ]
    },
    {
     "name": "stdout",
     "output_type": "stream",
     "text": [
      "Success! Enabled the file audit device at: file/\n"
     ]
    },
    {
     "name": "stderr",
     "output_type": "stream",
     "text": [
      "created key [5df85e3ed1485a49d8aaad5bb4c69efef298b72f] of type [json] as [sa-keys__europe-west1_p3mi.json] for [iam-vault-p3mi@hc-481920a3f7e54d39b33d0454ff9.iam.gserviceaccount.com]\n"
     ]
    },
    {
     "name": "stdout",
     "output_type": "stream",
     "text": [
      "Success! Data written to: sys/storage/raft/snapshot-auto/config/hourly\n"
     ]
    }
   ],
   "source": [
    "%%bash\n",
    "terraform output -raw cluster2_init_remote\n",
    "eval \"$(terraform output -raw cluster2_init_remote)\""
   ]
  },
  {
   "cell_type": "markdown",
   "metadata": {},
   "source": [
    "# Option 2. Initialize with telemetry"
   ]
  },
  {
   "cell_type": "markdown",
   "metadata": {},
   "source": [
    "* Initialize the first cluster. Requires SSH access via console.\n",
    "* Enable Audit logging\n",
    "* Obtain a token and configure the agent to use it"
   ]
  },
  {
   "cell_type": "code",
   "execution_count": null,
   "metadata": {},
   "outputs": [],
   "source": [
    "%%bash\n",
    "terraform output -raw cluster1_init_script_node1"
   ]
  },
  {
   "cell_type": "markdown",
   "metadata": {},
   "source": [
    "* Obtain token for Ops Agent\n",
    "* Restart Ops Agent Service\n",
    "* Repeat on nodes 2 to X"
   ]
  },
  {
   "cell_type": "code",
   "execution_count": null,
   "metadata": {},
   "outputs": [],
   "source": [
    "%%bash\n",
    "terraform output -raw cluster1_init_script_node2-X"
   ]
  },
  {
   "cell_type": "markdown",
   "metadata": {},
   "source": [
    "* Enable Automatic Backups on local terminal"
   ]
  },
  {
   "cell_type": "code",
   "execution_count": null,
   "metadata": {},
   "outputs": [],
   "source": [
    "%%bash\n",
    "terraform output -raw cluster1_init_auto_snapshot"
   ]
  },
  {
   "cell_type": "markdown",
   "metadata": {},
   "source": [
    "* Connect to cluster"
   ]
  },
  {
   "cell_type": "code",
   "execution_count": null,
   "metadata": {},
   "outputs": [],
   "source": [
    "%%bash\n",
    "terraform output -raw cluster1_fqdn_8200"
   ]
  },
  {
   "cell_type": "markdown",
   "metadata": {},
   "source": [
    "* Repeat for other clusters"
   ]
  },
  {
   "cell_type": "code",
   "execution_count": null,
   "metadata": {},
   "outputs": [],
   "source": [
    "%%bash\n",
    "terraform output -raw cluster2_init_script_node1"
   ]
  },
  {
   "cell_type": "code",
   "execution_count": 34,
   "metadata": {},
   "outputs": [
    {
     "name": "stdout",
     "output_type": "stream",
     "text": [
      "\n",
      "# Obtain root token\n",
      "export VAULT_TOKEN=$(gcloud secrets versions access latest --secret=root_token_europe-west1_p3mi)\n",
      "vault status # wait for vault to show as unsealed\n",
      "\n",
      "# Create Prometheus token and update Ops Agent Configuration with Token\n",
      "vault token create -field=token -policy prometheus-metrics > prometheus.token\n",
      "export PROMETHEUS_TOKEN=$(cat prometheus.token)\n",
      "sudo sed -ibak \"s/VAULT_TOKEN_PROMETHEUS/$PROMETHEUS_TOKEN/g\" /etc/google-cloud-ops-agent/config.yaml\n",
      "sudo systemctl restart google-cloud-ops-agent\n",
      "\n"
     ]
    }
   ],
   "source": [
    "%%bash\n",
    "terraform output -raw cluster2_init_script_node2-X"
   ]
  },
  {
   "cell_type": "code",
   "execution_count": null,
   "metadata": {},
   "outputs": [],
   "source": [
    "%%bash\n",
    "terraform output -raw cluster2_init_auto_snapshot"
   ]
  },
  {
   "cell_type": "markdown",
   "metadata": {},
   "source": [
    "* Connect to cluster"
   ]
  },
  {
   "cell_type": "code",
   "execution_count": null,
   "metadata": {},
   "outputs": [],
   "source": [
    "%%bash\n",
    "terraform output -raw cluster2_fqdn_8200"
   ]
  }
 ],
 "metadata": {
  "kernelspec": {
   "display_name": "base",
   "language": "python",
   "name": "python3"
  },
  "language_info": {
   "codemirror_mode": {
    "name": "ipython",
    "version": 3
   },
   "file_extension": ".py",
   "mimetype": "text/x-python",
   "name": "python",
   "nbconvert_exporter": "python",
   "pygments_lexer": "ipython3",
   "version": "3.9.13"
  }
 },
 "nbformat": 4,
 "nbformat_minor": 2
}
