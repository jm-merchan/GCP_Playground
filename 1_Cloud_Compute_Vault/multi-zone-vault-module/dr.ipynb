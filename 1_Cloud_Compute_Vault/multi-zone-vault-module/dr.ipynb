{
 "cells": [
  {
   "cell_type": "markdown",
   "metadata": {},
   "source": [
    "## CONFIGURE PRIMARY CLUSTER"
   ]
  },
  {
   "cell_type": "code",
   "execution_count": null,
   "metadata": {},
   "outputs": [],
   "source": [
    "%%bash\n",
    "\n",
    "export VAULT_ADDR=$(terraform output -raw cluster1_fqdn_8200)\n",
    "export VAULT_TOKEN=$(gcloud secrets versions access latest --secret=root_token_europe-west1_ho5u  --project=hc-481920a3f7e54d39b33d0454ff9)\n",
    "\n",
    "vault write -f sys/replication/dr/primary/enable primary_cluster_addr=${VAULT_ADDR:0:-4}8201\n",
    "\n",
    "vault write -format=json sys/replication/dr/primary/secondary-token id=dr12 | jq -r .wrap_info.token > dr_token.txt\n",
    "# cat dr_token.txt\n"
   ]
  },
  {
   "cell_type": "markdown",
   "metadata": {},
   "source": [
    "## CONFIGURE SECONDARY CLUSTER"
   ]
  },
  {
   "cell_type": "code",
   "execution_count": null,
   "metadata": {},
   "outputs": [],
   "source": [
    "%%bash\n",
    "export VAULT_TOKEN=$(gcloud secrets versions access latest --secret=root_token_europe-west1_p3mi  --project=hc-481920a3f7e54d39b33d0454ff9)\n",
    "export VAULT_ADDR=$(terraform output -raw cluster2_fqdn_8200)\n",
    "\n",
    "vault write sys/replication/dr/secondary/enable  \\\n",
    "    primary_api_addr=$(terraform output -raw cluster1_fqdn_8200) \\\n",
    "    token=$(cat dr_token.txt)"
   ]
  }
 ],
 "metadata": {
  "kernelspec": {
   "display_name": "base",
   "language": "python",
   "name": "python3"
  },
  "language_info": {
   "codemirror_mode": {
    "name": "ipython",
    "version": 3
   },
   "file_extension": ".py",
   "mimetype": "text/x-python",
   "name": "python",
   "nbconvert_exporter": "python",
   "pygments_lexer": "ipython3",
   "version": "3.9.13"
  }
 },
 "nbformat": 4,
 "nbformat_minor": 2
}
