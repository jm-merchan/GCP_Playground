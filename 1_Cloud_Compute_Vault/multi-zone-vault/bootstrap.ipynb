{
 "cells": [
  {
   "cell_type": "code",
   "execution_count": null,
   "metadata": {},
   "outputs": [],
   "source": [
    "%%bash\n",
    "# Script for node 1\n",
    "\n",
    "# Initialize Vault\n",
    "vault operator init -format=json > output.json\n",
    "cat output.json | jq -r .root_token > root.token\n",
    "export VAULT_TOKEN=$(cat root.token)\n",
    "\n",
    "# Save info in GCP Secrets\n",
    "gcloud secrets create root_token --replication-policy=\"automatic\"\n",
    "echo -n $VAULT_TOKEN | gcloud secrets versions add root_token --data-file=-\n",
    "gcloud secrets create vault_init_data --replication-policy=\"automatic\"\n",
    "cat output.json | gcloud secrets versions add vault_init_data --data-file=-\n",
    "\n",
    "# Enable Audit Logging\n",
    "vault audit enable file file_path=/var/log/vault.log\n",
    "\n",
    "# Create Prometheus token and update Ops Agent Configuration with Token\n",
    "vault policy write prometheus-metrics /opt/vault/prometheus.hcl\n",
    "vault token create -field=token -policy prometheus-metrics > prometheus.token\n",
    "export PROMETHEUS_TOKEN=$(cat prometheus.token)\n",
    "sudo sed -ibak \"s/VAULT_TOKEN_PROMETHEUS/$PROMETHEUS_TOKEN/g\" /etc/google-cloud-ops-agent/config.yaml\n",
    "sudo systemctl restart google-cloud-ops-agent\n",
    "\n",
    "# Enable Dead Server clean-up, min-quorum should be set in accordance to cluster size\n",
    "vault operator raft autopilot set-config -cleanup-dead-servers=true -dead-server-last-contact-threshold=10 -min-quorum=3"
   ]
  },
  {
   "cell_type": "code",
   "execution_count": null,
   "metadata": {},
   "outputs": [],
   "source": [
    "%%bash\n",
    "# Script for node 2-to-N\n",
    "\n",
    "# Obtain root token\n",
    "export VAULT_TOKEN=$(gcloud secrets versions access latest --secret=root_token)\n",
    "\n",
    "# Create Prometheus token and update Ops Agent Configuration with Token\n",
    "vault token create -field=token -policy prometheus-metrics > prometheus.token\n",
    "export PROMETHEUS_TOKEN=$(cat prometheus.token)\n",
    "sudo sed -ibak \"s/VAULT_TOKEN_PROMETHEUS/$PROMETHEUS_TOKEN/g\" /etc/google-cloud-ops-agent/config.yaml\n",
    "sudo systemctl restart google-cloud-ops-agent"
   ]
  }
 ],
 "metadata": {
  "language_info": {
   "name": "python"
  }
 },
 "nbformat": 4,
 "nbformat_minor": 2
}
