{
 "cells": [
  {
   "cell_type": "markdown",
   "metadata": {},
   "source": [
    "# Option 1. Initialize without telemetry"
   ]
  },
  {
   "cell_type": "markdown",
   "metadata": {},
   "source": [
    "* For first cluster"
   ]
  },
  {
   "cell_type": "code",
   "execution_count": 3,
   "metadata": {},
   "outputs": [
    {
     "name": "stdout",
     "output_type": "stream",
     "text": [
      "# Initialize Vault\n",
      "export VAULT_ADDR=https://vault-eu-primary-europe-west1-35zl.josemerchan-8d4c7e.gcp.sbx.hashicorpdemo.com:8200\n",
      "export VAULT_SKIP_VERIFY=true\n",
      "vault status\n",
      "curl -k $VAULT_ADDR\n",
      "\n",
      "vault operator init -format=json > output.json\n",
      "cat output.json | jq -r .root_token > root.token\n",
      "export VAULT_TOKEN=$(cat root.token)\n",
      "sleep 10\n",
      "\n",
      "# Save info in GCP Secrets\n",
      "gcloud secrets create root_token_europe-west1_35zl --replication-policy=\"automatic\" --project=hc-481920a3f7e54d39b33d0454ff9\n",
      "echo -n $VAULT_TOKEN | gcloud secrets versions add root_token_europe-west1_35zl --project=hc-481920a3f7e54d39b33d0454ff9 --data-file=-\n",
      "gcloud secrets create vault_init_data_europe-west1_35zl --replication-policy=\"automatic\" --project=hc-481920a3f7e54d39b33d0454ff9\n",
      "cat output.json | gcloud secrets versions add vault_init_data_europe-west1_35zl --project=hc-481920a3f7e54d39b33d0454ff9 --data-file=-\n",
      "rm output.json\n",
      "rm root.token\n",
      "\n",
      "# Enable Audit Logging\n",
      "# vault audit enable file file_path=/var/log/vault.log\n",
      "\n",
      "# Enable Dead Server clean-up, min-quorum should be set in accordance to cluster size\n",
      "vault operator raft autopilot set-config -cleanup-dead-servers=true -dead-server-last-contact-threshold=1m -min-quorum=3\n",
      "\n",
      "# Enable automatic snapshot\n",
      "gcloud iam service-accounts keys create sa-keys__europe-west1_35zl.json --iam-account=europe-west1-savault-35zl@hc-481920a3f7e54d39b33d0454ff9.iam.gserviceaccount.com\n",
      "vault write sys/storage/raft/snapshot-auto/config/hourly interval=\"1h\" retain=10 path_prefix=\"snapshots/\" storage_type=google-gcs google_gcs_bucket=gcs-vault-snapshot-35zl google_service_account_key=\"@sa-keys__europe-west1_35zl.json\"\n",
      "rm sa-keys__europe-west1_35zl.json\n",
      "Key                      Value\n",
      "---                      -----\n",
      "Recovery Seal Type       gcpckms\n",
      "Initialized              false\n",
      "Sealed                   true\n",
      "Total Recovery Shares    0\n",
      "Threshold                0\n",
      "Unseal Progress          0/0\n",
      "Unseal Nonce             n/a\n",
      "Version                  1.17.6+ent\n",
      "Build Date               2024-09-24T19:48:48Z\n",
      "Storage Type             raft\n",
      "HA Enabled               true\n"
     ]
    },
    {
     "name": "stderr",
     "output_type": "stream",
     "text": [
      "  % Total    % Received % Xferd  Average Speed   Time    Time     Time  Current\n",
      "                                 Dload  Upload   Total   Spent    Left  Speed\n",
      "100    40  100    40    0     0    326      0 --:--:-- --:--:-- --:--:--   336\n"
     ]
    },
    {
     "name": "stdout",
     "output_type": "stream",
     "text": [
      "<a href=\"/ui/\">Temporary Redirect</a>.\n",
      "\n"
     ]
    },
    {
     "name": "stderr",
     "output_type": "stream",
     "text": [
      "Created secret [root_token_europe-west1_35zl].\n",
      "Created version [1] of the secret [root_token_europe-west1_35zl].\n",
      "Created secret [vault_init_data_europe-west1_35zl].\n",
      "Created version [1] of the secret [vault_init_data_europe-west1_35zl].\n",
      "created key [e7959480b9467d0537fb6b90971df0de1d620079] of type [json] as [sa-keys__europe-west1_35zl.json] for [europe-west1-savault-35zl@hc-481920a3f7e54d39b33d0454ff9.iam.gserviceaccount.com]\n"
     ]
    },
    {
     "name": "stdout",
     "output_type": "stream",
     "text": [
      "Success! Data written to: sys/storage/raft/snapshot-auto/config/hourly\n"
     ]
    }
   ],
   "source": [
    "%%bash\n",
    "terraform output -raw init_remote\n",
    "eval \"$(terraform output -raw init_remote)\""
   ]
  }
 ],
 "metadata": {
  "kernelspec": {
   "display_name": "base",
   "language": "python",
   "name": "python3"
  },
  "language_info": {
   "codemirror_mode": {
    "name": "ipython",
    "version": 3
   },
   "file_extension": ".py",
   "mimetype": "text/x-python",
   "name": "python",
   "nbconvert_exporter": "python",
   "pygments_lexer": "ipython3",
   "version": "3.9.13"
  }
 },
 "nbformat": 4,
 "nbformat_minor": 2
}
