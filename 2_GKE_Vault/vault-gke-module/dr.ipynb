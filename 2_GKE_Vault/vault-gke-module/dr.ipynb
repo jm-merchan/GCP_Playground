{
 "cells": [
  {
   "cell_type": "markdown",
   "metadata": {},
   "source": [
    "## CONFIGURE PRIMARY CLUSTER"
   ]
  },
  {
   "cell_type": "code",
   "execution_count": 2,
   "metadata": {},
   "outputs": [
    {
     "name": "stderr",
     "output_type": "stream",
     "text": [
      "WARNING! The following warnings were returned from Vault:\n",
      "\n",
      "  * This cluster is being enabled as a primary for replication. Vault will be\n",
      "  unavailable for a brief period and will resume service shortly.\n",
      "\n"
     ]
    }
   ],
   "source": [
    "%%bash\n",
    "\n",
    "export VAULT_ADDR=$(terraform output -raw cluster1_fqdn_8200)\n",
    "export VAULT_TOKEN=\n",
    "\n",
    "vault write -f sys/replication/dr/primary/enable primary_cluster_addr=$(terraform output -raw cluster1_fqdn_8201)\n",
    "sleep 5\n",
    "\n",
    "vault write -format=json sys/replication/dr/primary/secondary-token id=dr12 | jq -r .wrap_info.token > dr_token.txt\n",
    "\n"
   ]
  },
  {
   "cell_type": "markdown",
   "metadata": {},
   "source": [
    "## CONFIGURE SECONDARY CLUSTER"
   ]
  },
  {
   "cell_type": "code",
   "execution_count": 3,
   "metadata": {},
   "outputs": [
    {
     "name": "stderr",
     "output_type": "stream",
     "text": [
      "WARNING! The following warnings were returned from Vault:\n",
      "\n",
      "  * Vault has successfully found secondary information; it may take a while to\n",
      "  perform setup tasks. Vault will be unavailable until these tasks and initial\n",
      "  sync complete.\n",
      "\n"
     ]
    }
   ],
   "source": [
    "%%bash\n",
    "export VAULT_TOKEN=\n",
    "export VAULT_ADDR=$(terraform output -raw cluster2_fqdn_8200)\n",
    "\n",
    "vault write sys/replication/dr/secondary/enable  \\\n",
    "    primary_api_addr=$(terraform output -raw cluster1_fqdn_8200) \\\n",
    "    token=$(cat dr_token.txt)"
   ]
  },
  {
   "cell_type": "code",
   "execution_count": 1,
   "metadata": {},
   "outputs": [
    {
     "name": "stderr",
     "output_type": "stream",
     "text": [
      "Error uploading policy: Error making API request.\n",
      "\n",
      "URL: PUT https://vault-primary-europe-southwest1-8y03.josemerchan-8d4c7e.gcp.sbx.hashicorpdemo.com:8200/v1/sys/policies/acl/dr-secondary-promotion\n",
      "Code: 400. Errors:\n",
      "\n",
      "* failed to parse policy: path \"sys/storage/raft/*\": invalid capability \"write\"\n"
     ]
    },
    {
     "name": "stdout",
     "output_type": "stream",
     "text": [
      "Success! Data written to: auth/token/roles/failover-handler\n"
     ]
    },
    {
     "name": "stderr",
     "output_type": "stream",
     "text": [
      "WARNING! The following warnings were returned from Vault:\n",
      "\n",
      "  * Policy \"dr-secondary-promotion\" does not exist\n",
      "\n"
     ]
    },
    {
     "name": "stdout",
     "output_type": "stream",
     "text": [
      "Key                  Value\n",
      "---                  -----\n",
      "token                hvb.AAAAAQIYN4gh0l1A5hgSKq0C0e89SZOQS3alA-_sfqCjSMsLBn2csWOgjSRehmg2Axk25QPAfZxsLWi7R_UeWKifvKOIiKIVvVo6InHulscy51mfGhGWfrjVU7RjROpBl6s-XdFERTx5h7LEu08xLxvd7BnrwR6W7et210JbWCnjkd266vqvatOsh5aQN63JNn_txS5ifw\n",
      "token_accessor       n/a\n",
      "token_duration       8h\n",
      "token_renewable      false\n",
      "token_policies       [\"default\" \"dr-secondary-promotion\"]\n",
      "identity_policies    []\n",
      "policies             [\"default\" \"dr-secondary-promotion\"]\n"
     ]
    }
   ],
   "source": [
    "%%bash\n",
    "export VAULT_ADDR=$(terraform output -raw cluster1_fqdn_8200)\n",
    "export VAULT_TOKEN=hvs.gw2jGbxgnvR7PjDRwDi9yf21\n",
    "\n",
    "vault policy write dr-secondary-promotion - <<EOF\n",
    "path \"sys/replication/dr/secondary/promote\" {\n",
    "  capabilities = [ \"update\" ]\n",
    "}\n",
    "\n",
    "# To update the primary to connect\n",
    "path \"sys/replication/dr/secondary/update-primary\" {\n",
    "    capabilities = [ \"update\" ]\n",
    "}\n",
    "\n",
    "# Only if using integrated storage (raft) as the storage backend\n",
    "# To read the current autopilot status\n",
    "path \"sys/storage/raft/autopilot/state\" {\n",
    "    capabilities = [ \"update\" , \"read\" ]\n",
    "}\n",
    "\n",
    "path \"sys/storage/raft/*\" {\n",
    "    capabilities = [ \"update\" , \"read\", \"create\", \"delete\", \"patch\", \"sudo\" ]\n",
    "}\n",
    "EOF\n",
    "\n",
    "vault write auth/token/roles/failover-handler \\\n",
    "    allowed_policies=dr-secondary-promotion \\\n",
    "    orphan=true \\\n",
    "    renewable=false \\\n",
    "    token_type=batch\n",
    "\n",
    "\n",
    "vault token create -role=failover-handler -ttl=8h"
   ]
  }
 ],
 "metadata": {
  "kernelspec": {
   "display_name": "base",
   "language": "python",
   "name": "python3"
  },
  "language_info": {
   "codemirror_mode": {
    "name": "ipython",
    "version": 3
   },
   "file_extension": ".py",
   "mimetype": "text/x-python",
   "name": "python",
   "nbconvert_exporter": "python",
   "pygments_lexer": "ipython3",
   "version": "3.9.13"
  }
 },
 "nbformat": 4,
 "nbformat_minor": 2
}
