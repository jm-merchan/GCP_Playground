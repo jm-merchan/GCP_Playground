{
 "cells": [
  {
   "cell_type": "markdown",
   "metadata": {},
   "source": [
    "## Remove database and peering"
   ]
  },
  {
   "cell_type": "code",
   "execution_count": null,
   "metadata": {},
   "outputs": [],
   "source": [
    "%%bash\n",
    "eval \"$(terraform output -raw remove_database_before_destroy)\""
   ]
  },
  {
   "cell_type": "code",
   "execution_count": 4,
   "metadata": {},
   "outputs": [
    {
     "name": "stderr",
     "output_type": "stream",
     "text": [
      "\u001b[31m╷\u001b[0m\u001b[0m\n",
      "\u001b[31m│\u001b[0m \u001b[0m\u001b[1m\u001b[31mError: \u001b[0m\u001b[0m\u001b[1mOutput \"remove_peering_before_destroy\" not found\u001b[0m\n",
      "\u001b[31m│\u001b[0m \u001b[0m\n",
      "\u001b[31m│\u001b[0m \u001b[0m\u001b[0mThe output variable requested could not be found in the state file. If you\n",
      "\u001b[31m│\u001b[0m \u001b[0mrecently added this to your configuration, be sure to run `terraform\n",
      "\u001b[31m│\u001b[0m \u001b[0mapply`, since the state won't be updated with new output variables until\n",
      "\u001b[31m│\u001b[0m \u001b[0mthat command is run.\n",
      "\u001b[31m╵\u001b[0m\u001b[0m\n"
     ]
    }
   ],
   "source": [
    "%%bash\n",
    "# https://github.com/hashicorp/terraform-provider-google/issues/16275\n",
    "eval \"$(terraform output -raw remove_peering_before_destroy)\""
   ]
  },
  {
   "cell_type": "markdown",
   "metadata": {},
   "source": [
    "## Remove the rest"
   ]
  },
  {
   "cell_type": "code",
   "execution_count": 3,
   "metadata": {},
   "outputs": [
    {
     "name": "stdout",
     "output_type": "stream",
     "text": [
      "\u001b[0m\u001b[1mgoogle_compute_region_backend_service.lb-ext-api: Still destroying... [id=projects/hc-481920a3f7e54d39b33d0454ff9...pe-west1-boundary-external-lb-api-1k9l, 30s elapsed]\u001b[0m\u001b[0m\n",
      "\u001b[0m\u001b[1mgoogle_compute_region_backend_service.lb-ext-api: Destruction complete after 30s\u001b[0m\n",
      "\u001b[0m\u001b[1mgoogle_compute_region_backend_service.lb-ext-cluster: Still destroying... [id=projects/hc-481920a3f7e54d39b33d0454ff9...est1-boundary-external-lb-cluster-1k9l, 30s elapsed]\u001b[0m\u001b[0m\n",
      "\u001b[0m\u001b[1mgoogle_compute_region_backend_service.lb-ext-cluster: Still destroying... [id=projects/hc-481920a3f7e54d39b33d0454ff9...est1-boundary-external-lb-cluster-1k9l, 40s elapsed]\u001b[0m\u001b[0m\n",
      "\u001b[0m\u001b[1mgoogle_compute_region_backend_service.lb-ext-cluster: Destruction complete after 41s\u001b[0m\n",
      "\u001b[0m\u001b[1mgoogle_compute_region_health_check.lb: Destroying... [id=projects/hc-481920a3f7e54d39b33d0454ff9/regions/europe-west1/healthChecks/europe-west1-boundary-interal-lb-1k9l]\u001b[0m\u001b[0m\n",
      "\u001b[0m\u001b[1mgoogle_compute_region_instance_group_manager.boundary: Destroying... [id=projects/hc-481920a3f7e54d39b33d0454ff9/regions/europe-west1/instanceGroupManagers/europe-west1-boundary-group-manager]\u001b[0m\u001b[0m\n",
      "\u001b[0m\u001b[1mgoogle_compute_region_instance_group_manager.boundary: Still destroying... [id=projects/hc-481920a3f7e54d39b33d0454ff9...rs/europe-west1-boundary-group-manager, 10s elapsed]\u001b[0m\u001b[0m\n",
      "\u001b[0m\u001b[1mgoogle_compute_region_health_check.lb: Still destroying... [id=projects/hc-481920a3f7e54d39b33d0454ff9.../europe-west1-boundary-interal-lb-1k9l, 10s elapsed]\u001b[0m\u001b[0m\n",
      "\u001b[0m\u001b[1mgoogle_compute_region_health_check.lb: Destruction complete after 10s\u001b[0m\n",
      "\u001b[0m\u001b[1mgoogle_compute_region_instance_group_manager.boundary: Still destroying... [id=projects/hc-481920a3f7e54d39b33d0454ff9...rs/europe-west1-boundary-group-manager, 20s elapsed]\u001b[0m\u001b[0m\n",
      "\u001b[0m\u001b[1mgoogle_compute_region_instance_group_manager.boundary: Still destroying... [id=projects/hc-481920a3f7e54d39b33d0454ff9...rs/europe-west1-boundary-group-manager, 30s elapsed]\u001b[0m\u001b[0m\n",
      "\u001b[0m\u001b[1mgoogle_compute_region_instance_group_manager.boundary: Still destroying... [id=projects/hc-481920a3f7e54d39b33d0454ff9...rs/europe-west1-boundary-group-manager, 40s elapsed]\u001b[0m\u001b[0m\n",
      "\u001b[0m\u001b[1mgoogle_compute_region_instance_group_manager.boundary: Still destroying... [id=projects/hc-481920a3f7e54d39b33d0454ff9...rs/europe-west1-boundary-group-manager, 50s elapsed]\u001b[0m\u001b[0m\n",
      "\u001b[0m\u001b[1mgoogle_compute_region_instance_group_manager.boundary: Still destroying... [id=projects/hc-481920a3f7e54d39b33d0454ff9...rs/europe-west1-boundary-group-manager, 1m0s elapsed]\u001b[0m\u001b[0m\n",
      "\u001b[0m\u001b[1mgoogle_compute_region_instance_group_manager.boundary: Still destroying... [id=projects/hc-481920a3f7e54d39b33d0454ff9...rs/europe-west1-boundary-group-manager, 1m10s elapsed]\u001b[0m\u001b[0m\n",
      "\u001b[0m\u001b[1mgoogle_compute_region_instance_group_manager.boundary: Still destroying... [id=projects/hc-481920a3f7e54d39b33d0454ff9...rs/europe-west1-boundary-group-manager, 1m20s elapsed]\u001b[0m\u001b[0m\n",
      "\u001b[0m\u001b[1mgoogle_compute_region_instance_group_manager.boundary: Still destroying... [id=projects/hc-481920a3f7e54d39b33d0454ff9...rs/europe-west1-boundary-group-manager, 1m30s elapsed]\u001b[0m\u001b[0m\n",
      "\u001b[0m\u001b[1mgoogle_compute_region_instance_group_manager.boundary: Still destroying... [id=projects/hc-481920a3f7e54d39b33d0454ff9...rs/europe-west1-boundary-group-manager, 1m40s elapsed]\u001b[0m\u001b[0m\n",
      "\u001b[0m\u001b[1mgoogle_compute_region_instance_group_manager.boundary: Destruction complete after 1m41s\u001b[0m\n",
      "\u001b[0m\u001b[1mgoogle_compute_instance_template.boundary: Destroying... [id=projects/hc-481920a3f7e54d39b33d0454ff9/global/instanceTemplates/europe-west1-boundary20241002085439530600000002]\u001b[0m\u001b[0m\n",
      "\u001b[0m\u001b[1mgoogle_compute_instance_template.boundary: Destruction complete after 2s\u001b[0m\n",
      "\u001b[0m\u001b[1mgoogle_service_networking_connection.private_vpc_connection: Destroying... [id=projects%2Fhc-481920a3f7e54d39b33d0454ff9%2Fglobal%2Fnetworks%2Fboundary-vpc-1k9l:servicenetworking.googleapis.com]\u001b[0m\u001b[0m\n",
      "\u001b[0m\u001b[1mgoogle_kms_crypto_key.boundary_key_root: Destroying... [id=projects/hc-481920a3f7e54d39b33d0454ff9/locations/global/keyRings/kms-boundary-keyring-1k9l/cryptoKeys/kms-boundary-key-root-1k9l]\u001b[0m\u001b[0m\n",
      "\u001b[0m\u001b[1mgoogle_kms_crypto_key.boundary_key_bsr: Destroying... [id=projects/hc-481920a3f7e54d39b33d0454ff9/locations/global/keyRings/kms-boundary-keyring-1k9l/cryptoKeys/kms-boundary-key-bsr-1k9l]\u001b[0m\u001b[0m\n",
      "\u001b[0m\u001b[1mgoogle_service_account.main: Destroying... [id=projects/hc-481920a3f7e54d39b33d0454ff9/serviceAccounts/iam-boundary-1k9l@hc-481920a3f7e54d39b33d0454ff9.iam.gserviceaccount.com]\u001b[0m\u001b[0m\n",
      "\u001b[0m\u001b[1mgoogle_kms_crypto_key.boundary_key_recovery: Destroying... [id=projects/hc-481920a3f7e54d39b33d0454ff9/locations/global/keyRings/kms-boundary-keyring-1k9l/cryptoKeys/kms-boundary-key-recovery-1k9l]\u001b[0m\u001b[0m\n",
      "\u001b[0m\u001b[1mgoogle_compute_subnetwork.subnet1: Destroying... [id=projects/hc-481920a3f7e54d39b33d0454ff9/regions/europe-west1/subnetworks/europe-west1-subnet1-1k9l]\u001b[0m\u001b[0m\n",
      "\u001b[0m\u001b[1mgoogle_kms_crypto_key.boundary_key_worker_auth: Destroying... [id=projects/hc-481920a3f7e54d39b33d0454ff9/locations/global/keyRings/kms-boundary-keyring-1k9l/cryptoKeys/kms-boundary-key-worker-auth-1k9l]\u001b[0m\u001b[0m\n",
      "\u001b[0m\u001b[1macme_certificate.certificate: Destroying... [id=5d4f86ee-d4bc-651e-3cb3-5e92431dac33]\u001b[0m\u001b[0m\n",
      "\u001b[0m\u001b[1mgoogle_kms_crypto_key.boundary_key_root: Destruction complete after 1s\u001b[0m\n",
      "\u001b[0m\u001b[1mgoogle_service_account.main: Destruction complete after 1s\u001b[0m\n",
      "\u001b[0m\u001b[1mgoogle_kms_crypto_key.boundary_key_bsr: Destruction complete after 1s\u001b[0m\n",
      "\u001b[0m\u001b[1mgoogle_kms_crypto_key.boundary_key_recovery: Destruction complete after 1s\u001b[0m\n",
      "\u001b[0m\u001b[1macme_certificate.certificate: Destruction complete after 1s\u001b[0m\n",
      "\u001b[0m\u001b[1macme_registration.registration: Destroying... [id=https://acme-v02.api.letsencrypt.org/acme/acct/1978314017]\u001b[0m\u001b[0m\n",
      "\u001b[0m\u001b[1mgoogle_kms_crypto_key.boundary_key_worker_auth: Destruction complete after 1s\u001b[0m\n",
      "\u001b[0m\u001b[1mgoogle_kms_key_ring.key_ring: Destroying... [id=projects/hc-481920a3f7e54d39b33d0454ff9/locations/global/keyRings/kms-boundary-keyring-1k9l]\u001b[0m\u001b[0m\n",
      "\u001b[0m\u001b[1mgoogle_kms_key_ring.key_ring: Destruction complete after 0s\u001b[0m\n",
      "\u001b[0m\u001b[1mtime_sleep.wait_20_seconds: Destroying... [id=2024-10-02T08:40:38Z]\u001b[0m\u001b[0m\n",
      "\u001b[0m\u001b[1mtime_sleep.wait_20_seconds: Destruction complete after 0s\u001b[0m\n",
      "\u001b[0m\u001b[1mgoogle_project_service.cloudkms: Destroying... [id=hc-481920a3f7e54d39b33d0454ff9/cloudkms.googleapis.com]\u001b[0m\u001b[0m\n",
      "\u001b[0m\u001b[1mgoogle_project_service.servicenetworking: Destroying... [id=hc-481920a3f7e54d39b33d0454ff9/servicenetworking.googleapis.com]\u001b[0m\u001b[0m\n",
      "\u001b[0m\u001b[1mgoogle_project_service.servicenetworking: Destruction complete after 0s\u001b[0m\n",
      "\u001b[0m\u001b[1mgoogle_project_service.cloudkms: Destruction complete after 0s\u001b[0m\n",
      "\u001b[0m\u001b[1macme_registration.registration: Destruction complete after 2s\u001b[0m\n",
      "\u001b[0m\u001b[1mtls_private_key.private_key: Destroying... [id=5fe4b2509c8fa83693d8542e167b0c38e5b5a462]\u001b[0m\u001b[0m\n",
      "\u001b[0m\u001b[1mtls_private_key.private_key: Destruction complete after 0s\u001b[0m\n",
      "\u001b[0m\u001b[1mgoogle_service_networking_connection.private_vpc_connection: Still destroying... [id=projects%2Fhc-481920a3f7e54d39b33d0454f...-1k9l:servicenetworking.googleapis.com, 10s elapsed]\u001b[0m\u001b[0m\n",
      "\u001b[0m\u001b[1mgoogle_compute_subnetwork.subnet1: Still destroying... [id=projects/hc-481920a3f7e54d39b33d0454ff9.../subnetworks/europe-west1-subnet1-1k9l, 10s elapsed]\u001b[0m\u001b[0m\n",
      "\u001b[0m\u001b[1mgoogle_compute_subnetwork.subnet1: Still destroying... [id=projects/hc-481920a3f7e54d39b33d0454ff9.../subnetworks/europe-west1-subnet1-1k9l, 20s elapsed]\u001b[0m\u001b[0m\n",
      "\u001b[0m\u001b[1mgoogle_service_networking_connection.private_vpc_connection: Still destroying... [id=projects%2Fhc-481920a3f7e54d39b33d0454f...-1k9l:servicenetworking.googleapis.com, 20s elapsed]\u001b[0m\u001b[0m\n",
      "\u001b[0m\u001b[1mgoogle_compute_subnetwork.subnet1: Still destroying... [id=projects/hc-481920a3f7e54d39b33d0454ff9.../subnetworks/europe-west1-subnet1-1k9l, 30s elapsed]\u001b[0m\u001b[0m\n",
      "\u001b[0m\u001b[1mgoogle_compute_subnetwork.subnet1: Destruction complete after 31s\u001b[0m\n"
     ]
    },
    {
     "name": "stderr",
     "output_type": "stream",
     "text": [
      "\u001b[31m╷\u001b[0m\u001b[0m\n",
      "\u001b[31m│\u001b[0m \u001b[0m\u001b[1m\u001b[31mError: \u001b[0m\u001b[0m\u001b[1mUnable to remove Service Networking Connection, err: Error waiting for Delete Service Networking Connection: Error code 9, message: Failed to delete connection; Producer services (e.g. CloudSQL, Cloud Memstore, etc.) are still using this connection.\n",
      "\u001b[31m│\u001b[0m \u001b[0mHelp Token: AaUeqG7a2k5YkiiPQbD58f5Ythd9MmvstatY_tF4pNThc4elRJjRsBhUsZs1rXy4nS03XvdIxb6IvqlOSAFPTvUb70Q8LnCXhdIrmlD-B91OW3U8\u001b[0m\n",
      "\u001b[31m│\u001b[0m \u001b[0m\n",
      "\u001b[31m│\u001b[0m \u001b[0m\u001b[0m\n",
      "\u001b[31m╵\u001b[0m\u001b[0m\n",
      "\u001b[31m╷\u001b[0m\u001b[0m\n",
      "\u001b[31m│\u001b[0m \u001b[0m\u001b[1m\u001b[31mError: \u001b[0m\u001b[0m\u001b[1mError when reading or editing Subnetwork: googleapi: Error 400: The subnetwork resource 'projects/hc-481920a3f7e54d39b33d0454ff9/regions/europe-west1/subnetworks/europe-west1-subnet-proxy-only-1k9l' is already being used by 'projects/hc-481920a3f7e54d39b33d0454ff9/regions/europe-west1/forwardingRules/europe-west1-boundary-external-api-1k9l', resourceInUseByAnotherResource\u001b[0m\n",
      "\u001b[31m│\u001b[0m \u001b[0m\n",
      "\u001b[31m│\u001b[0m \u001b[0m\u001b[0m\n",
      "\u001b[31m╵\u001b[0m\u001b[0m\n"
     ]
    },
    {
     "ename": "CalledProcessError",
     "evalue": "Command 'b'gcloud auth application-default login\\nterraform destroy -var-file=variables.tfvars --auto-approve\\n'' returned non-zero exit status 1.",
     "output_type": "error",
     "traceback": [
      "\u001b[0;31m---------------------------------------------------------------------------\u001b[0m",
      "\u001b[0;31mCalledProcessError\u001b[0m                        Traceback (most recent call last)",
      "Input \u001b[0;32mIn [3]\u001b[0m, in \u001b[0;36m<cell line: 1>\u001b[0;34m()\u001b[0m\n\u001b[0;32m----> 1\u001b[0m \u001b[43mget_ipython\u001b[49m\u001b[43m(\u001b[49m\u001b[43m)\u001b[49m\u001b[38;5;241;43m.\u001b[39;49m\u001b[43mrun_cell_magic\u001b[49m\u001b[43m(\u001b[49m\u001b[38;5;124;43m'\u001b[39;49m\u001b[38;5;124;43mbash\u001b[39;49m\u001b[38;5;124;43m'\u001b[39;49m\u001b[43m,\u001b[49m\u001b[43m \u001b[49m\u001b[38;5;124;43m'\u001b[39;49m\u001b[38;5;124;43m'\u001b[39;49m\u001b[43m,\u001b[49m\u001b[43m \u001b[49m\u001b[38;5;124;43m'\u001b[39;49m\u001b[38;5;124;43mgcloud auth application-default login\u001b[39;49m\u001b[38;5;130;43;01m\\n\u001b[39;49;00m\u001b[38;5;124;43mterraform destroy -var-file=variables.tfvars --auto-approve\u001b[39;49m\u001b[38;5;130;43;01m\\n\u001b[39;49;00m\u001b[38;5;124;43m'\u001b[39;49m\u001b[43m)\u001b[49m\n",
      "File \u001b[0;32m~/opt/anaconda3/lib/python3.9/site-packages/IPython/core/interactiveshell.py:2358\u001b[0m, in \u001b[0;36mInteractiveShell.run_cell_magic\u001b[0;34m(self, magic_name, line, cell)\u001b[0m\n\u001b[1;32m   2356\u001b[0m \u001b[38;5;28;01mwith\u001b[39;00m \u001b[38;5;28mself\u001b[39m\u001b[38;5;241m.\u001b[39mbuiltin_trap:\n\u001b[1;32m   2357\u001b[0m     args \u001b[38;5;241m=\u001b[39m (magic_arg_s, cell)\n\u001b[0;32m-> 2358\u001b[0m     result \u001b[38;5;241m=\u001b[39m \u001b[43mfn\u001b[49m\u001b[43m(\u001b[49m\u001b[38;5;241;43m*\u001b[39;49m\u001b[43margs\u001b[49m\u001b[43m,\u001b[49m\u001b[43m \u001b[49m\u001b[38;5;241;43m*\u001b[39;49m\u001b[38;5;241;43m*\u001b[39;49m\u001b[43mkwargs\u001b[49m\u001b[43m)\u001b[49m\n\u001b[1;32m   2359\u001b[0m \u001b[38;5;28;01mreturn\u001b[39;00m result\n",
      "File \u001b[0;32m~/opt/anaconda3/lib/python3.9/site-packages/IPython/core/magics/script.py:153\u001b[0m, in \u001b[0;36mScriptMagics._make_script_magic.<locals>.named_script_magic\u001b[0;34m(line, cell)\u001b[0m\n\u001b[1;32m    151\u001b[0m \u001b[38;5;28;01melse\u001b[39;00m:\n\u001b[1;32m    152\u001b[0m     line \u001b[38;5;241m=\u001b[39m script\n\u001b[0;32m--> 153\u001b[0m \u001b[38;5;28;01mreturn\u001b[39;00m \u001b[38;5;28;43mself\u001b[39;49m\u001b[38;5;241;43m.\u001b[39;49m\u001b[43mshebang\u001b[49m\u001b[43m(\u001b[49m\u001b[43mline\u001b[49m\u001b[43m,\u001b[49m\u001b[43m \u001b[49m\u001b[43mcell\u001b[49m\u001b[43m)\u001b[49m\n",
      "File \u001b[0;32m~/opt/anaconda3/lib/python3.9/site-packages/IPython/core/magics/script.py:305\u001b[0m, in \u001b[0;36mScriptMagics.shebang\u001b[0;34m(self, line, cell)\u001b[0m\n\u001b[1;32m    300\u001b[0m \u001b[38;5;28;01mif\u001b[39;00m args\u001b[38;5;241m.\u001b[39mraise_error \u001b[38;5;129;01mand\u001b[39;00m p\u001b[38;5;241m.\u001b[39mreturncode \u001b[38;5;241m!=\u001b[39m \u001b[38;5;241m0\u001b[39m:\n\u001b[1;32m    301\u001b[0m     \u001b[38;5;66;03m# If we get here and p.returncode is still None, we must have\u001b[39;00m\n\u001b[1;32m    302\u001b[0m     \u001b[38;5;66;03m# killed it but not yet seen its return code. We don't wait for it,\u001b[39;00m\n\u001b[1;32m    303\u001b[0m     \u001b[38;5;66;03m# in case it's stuck in uninterruptible sleep. -9 = SIGKILL\u001b[39;00m\n\u001b[1;32m    304\u001b[0m     rc \u001b[38;5;241m=\u001b[39m p\u001b[38;5;241m.\u001b[39mreturncode \u001b[38;5;129;01mor\u001b[39;00m \u001b[38;5;241m-\u001b[39m\u001b[38;5;241m9\u001b[39m\n\u001b[0;32m--> 305\u001b[0m     \u001b[38;5;28;01mraise\u001b[39;00m CalledProcessError(rc, cell)\n",
      "\u001b[0;31mCalledProcessError\u001b[0m: Command 'b'gcloud auth application-default login\\nterraform destroy -var-file=variables.tfvars --auto-approve\\n'' returned non-zero exit status 1."
     ]
    }
   ],
   "source": [
    "%%bash\n",
    "gcloud auth application-default login\n",
    "terraform destroy -var-file=variables.tfvars --auto-approve"
   ]
  }
 ],
 "metadata": {
  "kernelspec": {
   "display_name": "base",
   "language": "python",
   "name": "python3"
  },
  "language_info": {
   "codemirror_mode": {
    "name": "ipython",
    "version": 3
   },
   "file_extension": ".py",
   "mimetype": "text/x-python",
   "name": "python",
   "nbconvert_exporter": "python",
   "pygments_lexer": "ipython3",
   "version": "3.9.13"
  }
 },
 "nbformat": 4,
 "nbformat_minor": 2
}
