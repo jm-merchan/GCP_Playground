{
 "cells": [
  {
   "cell_type": "markdown",
   "metadata": {},
   "source": [
    "# Init Vault"
   ]
  },
  {
   "cell_type": "code",
   "execution_count": null,
   "metadata": {},
   "outputs": [],
   "source": [
    "%%bash\n",
    "gcloud auth login\n",
    "eval \"$(terraform output -raw vault_init_remote)\"\n",
    "\n",
    "# If you want to save time and get the token directly uncomment\n",
    "#echo \"VAULT TOKEN: $VAULT_TOKEN\"\n",
    "#echo \"VAULT ADDR: $VAULT_ADDR\""
   ]
  },
  {
   "cell_type": "code",
   "execution_count": null,
   "metadata": {},
   "outputs": [],
   "source": [
    "! terraform output"
   ]
  },
  {
   "cell_type": "markdown",
   "metadata": {},
   "source": [
    "# Init Boundary"
   ]
  },
  {
   "cell_type": "code",
   "execution_count": null,
   "metadata": {},
   "outputs": [],
   "source": [
    "%%bash\n",
    "mkdir init_boundary\n",
    "cat << EOF > ./init_boundary/main.tf \n",
    "# https://developer.hashicorp.com/boundary/docs/install-boundary/initialize#create-your-first-login-account\n",
    "provider \"boundary\" {\n",
    "  addr             = \"$(terraform output -raw boundary_fqdn_443)\"\n",
    "  tls_insecure     = true\n",
    "  recovery_kms_hcl = <<EOT\n",
    "    kms \"gcpckms\" {\n",
    "    purpose     = \"recovery\"\n",
    "    key_ring    = \"$(terraform output -raw key_ring)\"\n",
    "    crypto_key  = \"$(terraform output -raw crypto_key)\"\n",
    "    project     = \"$(terraform output -raw project)\"\n",
    "    region      = \"$(terraform output -raw location)\"\n",
    "    }\n",
    "EOT\n",
    "}\n",
    "\n",
    "resource \"boundary_auth_method\" \"password\" {\n",
    "  name        = \"Password auth method\"\n",
    "  description = \"Password auth method\"\n",
    "  type        = \"password\"\n",
    "  scope_id    = \"global\"\n",
    "}\n",
    "\n",
    "resource \"boundary_account_password\" \"myuser\" {\n",
    "  name           = \"admin\"\n",
    "  description    = \"User account for adminr\"\n",
    "  login_name     = var.boundary_user\n",
    "  password       = var.boundary_password\n",
    "  auth_method_id = boundary_auth_method.password.id\n",
    "}\n",
    "\n",
    "resource \"boundary_user\" \"myuser\" {\n",
    "  name        = \"admin\"\n",
    "  description = \"Initial Admin User\"\n",
    "  account_ids = [boundary_account_password.myuser.id]\n",
    "  scope_id    = \"global\"\n",
    "}\n",
    "\n",
    "resource \"boundary_role\" \"org_admin\" {\n",
    "  scope_id        = \"global\"\n",
    "  grant_scope_ids = [\"global\"]\n",
    "  grant_strings = [\n",
    "    \"ids=*;type=*;actions=*\"\n",
    "  ]\n",
    "  principal_ids = [boundary_user.myuser.id]\n",
    "}\n",
    "\n",
    "output \"auth_method\" {\n",
    "  value = boundary_auth_method.password.id\n",
    "}\n",
    "\n",
    "EOF\n",
    "\n",
    "cat << EOF > ./init_boundary/variables.tf \n",
    "variable \"boundary_user\" {\n",
    "  description = \"Initial Boundary Admin User\"\n",
    "  type        = string\n",
    "}\n",
    "\n",
    "variable \"boundary_password\" {\n",
    "  description = \"Password for Boundary Admin\"\n",
    "  type        = string\n",
    "}\n",
    "EOF\n",
    "\n",
    "cat << EOF > ./init_boundary/variables.tfvars\n",
    "boundary_user        = \"admin\"            #Use your own\n",
    "boundary_password    = \"SuperSecret123!\"  #Use your own\n",
    "EOF"
   ]
  },
  {
   "cell_type": "code",
   "execution_count": null,
   "metadata": {},
   "outputs": [],
   "source": [
    "%%bash\n",
    "cd init_boundary\n",
    "terraform init\n",
    "terraform apply --auto-approve --var-file=variables.tfvars"
   ]
  },
  {
   "cell_type": "markdown",
   "metadata": {},
   "source": [
    "#### Run in a terminal in directory ```GCP_Playground/4_Simple_Boundary_Demo/1_Infra_internal_vault_internal_boundary```\n",
    "```bash\n",
    "export VAULT_ADDR=$(terraform output -raw vault_fqdn_8200)\n",
    "export BOUNDARY_ADDR=$(terraform output -raw boundary_fqdn_443)\n",
    "export VAULT_SKIP_TLS=true\n",
    "export VAULT_TOKEN=$(terraform output -raw vault_read_vault_token)\n",
    "export TF_VAR_authmethod=$(terraform output -state=./init_boundary/terraform.tfstate -raw auth_method)\n",
    "boundary authenticate password -auth-method-id $(terraform output -state=./init_boundary/terraform.tfstate -raw auth_method)\n",
    "```\n"
   ]
  },
  {
   "cell_type": "markdown",
   "metadata": {},
   "source": [
    "## To destroy configuration"
   ]
  },
  {
   "cell_type": "code",
   "execution_count": 8,
   "metadata": {},
   "outputs": [
    {
     "name": "stdout",
     "output_type": "stream",
     "text": [
      "\n",
      "\u001b[0m\u001b[1m\u001b[32mNo changes.\u001b[0m\u001b[1m No objects need to be destroyed.\u001b[0m\n",
      "\n",
      "\u001b[0mEither you have not created any objects yet or the existing objects were\n",
      "already deleted outside of Terraform.\n",
      "\u001b[0m\u001b[1m\u001b[32m\n",
      "Destroy complete! Resources: 0 destroyed.\n",
      "\u001b[0m"
     ]
    }
   ],
   "source": [
    "%%bash\n",
    "cd init_boundary\n",
    "terraform destroy --auto-approve --var-file=variables.tfvars"
   ]
  }
 ],
 "metadata": {
  "kernelspec": {
   "display_name": "base",
   "language": "python",
   "name": "python3"
  },
  "language_info": {
   "codemirror_mode": {
    "name": "ipython",
    "version": 3
   },
   "file_extension": ".py",
   "mimetype": "text/x-python",
   "name": "python",
   "nbconvert_exporter": "python",
   "pygments_lexer": "ipython3",
   "version": "3.9.13"
  }
 },
 "nbformat": 4,
 "nbformat_minor": 2
}
