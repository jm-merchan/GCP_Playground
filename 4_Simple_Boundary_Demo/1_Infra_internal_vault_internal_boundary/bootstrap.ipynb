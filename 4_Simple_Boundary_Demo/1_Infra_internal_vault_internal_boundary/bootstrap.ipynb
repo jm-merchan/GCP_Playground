{
 "cells": [
  {
   "cell_type": "markdown",
   "metadata": {},
   "source": [
    "# Init Vault"
   ]
  },
  {
   "cell_type": "code",
   "execution_count": 1,
   "metadata": {},
   "outputs": [
    {
     "name": "stderr",
     "output_type": "stream",
     "text": [
      "Your browser has been opened to visit:\n",
      "\n",
      "    https://accounts.google.com/o/oauth2/auth?response_type=code&client_id=32555940559.apps.googleusercontent.com&redirect_uri=http%3A%2F%2Flocalhost%3A8085%2F&scope=openid+https%3A%2F%2Fwww.googleapis.com%2Fauth%2Fuserinfo.email+https%3A%2F%2Fwww.googleapis.com%2Fauth%2Fcloud-platform+https%3A%2F%2Fwww.googleapis.com%2Fauth%2Fappengine.admin+https%3A%2F%2Fwww.googleapis.com%2Fauth%2Fsqlservice.login+https%3A%2F%2Fwww.googleapis.com%2Fauth%2Fcompute+https%3A%2F%2Fwww.googleapis.com%2Fauth%2Faccounts.reauth&state=ryvdnemPLpavwmHHDlW79EMWA7qHSi&access_type=offline&code_challenge=Bxak0Q57dnrOLWfcdatKGRUlxBuW2lxJQHDuEy0Zke4&code_challenge_method=S256\n",
      "\n",
      "\n",
      "You are now logged in as [jose.merchan@hashicorp.com].\n",
      "Your current project is [None].  You can change this setting by running:\n",
      "  $ gcloud config set project PROJECT_ID\n"
     ]
    },
    {
     "name": "stdout",
     "output_type": "stream",
     "text": [
      "Key                      Value\n",
      "---                      -----\n",
      "Recovery Seal Type       gcpckms\n",
      "Initialized              false\n",
      "Sealed                   true\n",
      "Total Recovery Shares    0\n",
      "Threshold                0\n",
      "Unseal Progress          0/0\n",
      "Unseal Nonce             n/a\n",
      "Version                  1.17.6+ent\n",
      "Build Date               2024-09-24T19:48:48Z\n",
      "Storage Type             raft\n",
      "HA Enabled               true\n"
     ]
    },
    {
     "name": "stderr",
     "output_type": "stream",
     "text": [
      "  % Total    % Received % Xferd  Average Speed   Time    Time     Time  Current\n",
      "                                 Dload  Upload   Total   Spent    Left  Speed\n",
      "100    40  100    40    0     0    744      0 --:--:-- --:--:-- --:--:--   800\n"
     ]
    },
    {
     "name": "stdout",
     "output_type": "stream",
     "text": [
      "<a href=\"/ui/\">Temporary Redirect</a>.\n",
      "\n"
     ]
    },
    {
     "name": "stderr",
     "output_type": "stream",
     "text": [
      "Created secret [root_token_europe-southwest1_ftn3].\n",
      "Created version [1] of the secret [root_token_europe-southwest1_ftn3].\n",
      "Created secret [vault_init_data_europe-southwest1_ftn3].\n",
      "Created version [1] of the secret [vault_init_data_europe-southwest1_ftn3].\n",
      "Command flags must be provided before positional arguments. The following arguments will not be parsed as flags: [-path=localfile/]\n"
     ]
    },
    {
     "name": "stdout",
     "output_type": "stream",
     "text": [
      "Success! Enabled the file audit device at: file/\n",
      "Success! Enabled the file audit device at: stdout/\n"
     ]
    },
    {
     "name": "stderr",
     "output_type": "stream",
     "text": [
      "created key [9b6dc0711e8fbac9db1952648d0555f8ca57028b] of type [json] as [sa-keys__europe-southwest1_ftn3.json] for [europe-southwest1-savault-ftn3@hc-ef850f7ac0e04fa581e54b3fba8.iam.gserviceaccount.com]\n"
     ]
    },
    {
     "name": "stdout",
     "output_type": "stream",
     "text": [
      "Success! Data written to: sys/storage/raft/snapshot-auto/config/hourly\n",
      "VAULT TOKEN: hvs.tWzFqz9vcbiOtGoba5OKJAEO\n",
      "VAULT ADDR: https://vault-europe-southwest1-ftn3.josemerchan-2c4ef2.gcp.sbx.hashicorpdemo.com:8200\n"
     ]
    }
   ],
   "source": [
    "%%bash\n",
    "gcloud auth login\n",
    "eval \"$(terraform output -raw vault_init_remote)\"\n",
    "\n",
    "# If you want to save time and get the token directly uncomment\n",
    "echo \"VAULT TOKEN: $VAULT_TOKEN\"\n",
    "echo \"VAULT ADDR: $VAULT_ADDR\""
   ]
  },
  {
   "cell_type": "code",
   "execution_count": 2,
   "metadata": {},
   "outputs": [
    {
     "name": "stdout",
     "output_type": "stream",
     "text": [
      "boundary_fqdn_443 = \"https://boundary-europe-southwest1-s39l.josemerchan-2c4ef2.gcp.sbx.hashicorpdemo.com\"\n",
      "boundary_fqdn_9200 = \"https://boundary-europe-southwest1-s39l.josemerchan-2c4ef2.gcp.sbx.hashicorpdemo.com:9200\"\n",
      "crypto_key = \"kms-boundary-key-recovery-s39l\"\n",
      "crypto_key_worker = \"kms-boundary-key-worker-auth-s39l\"\n",
      "helm = <sensitive>\n",
      "key_ring = \"kms-boundary-keyring-s39l\"\n",
      "kubernetes_cluster = <sensitive>\n",
      "location = \"global\"\n",
      "project = \"hc-ef850f7ac0e04fa581e54b3fba8\"\n",
      "remove_database_before_destroy = \"gcloud sql instances delete europe-southwest1-postgres-instance-s39l --project=hc-ef850f7ac0e04fa581e54b3fba8\"\n",
      "remove_peering_before_destroy = \"gcloud compute networks peerings delete servicenetworking-googleapis-com --network=europe-southwest1-ss9a --project=hc-ef850f7ac0e04fa581e54b3fba8\"\n",
      "vault_fqdn_8200 = \"https://vault-europe-southwest1-ftn3.josemerchan-2c4ef2.gcp.sbx.hashicorpdemo.com:8200\"\n",
      "vault_fqdn_8201 = \"https://vault-clusterport-europe-southwest1-ftn3.josemerchan-2c4ef2.gcp.sbx.hashicorpdemo.com:8201\"\n",
      "vault_init_remote = <<EOT\n",
      "# ---------------------------\n",
      "# ===========================\n",
      "# Initialize Vault\n",
      "export VAULT_ADDR=https://vault-europe-southwest1-ftn3.josemerchan-2c4ef2.gcp.sbx.hashicorpdemo.com:8200\n",
      "export VAULT_SKIP_VERIFY=true\n",
      "vault status\n",
      "curl -k $VAULT_ADDR\n",
      "\n",
      "vault operator init -format=json > output.json\n",
      "cat output.json | jq -r .root_token > root.token\n",
      "export VAULT_TOKEN=$(cat root.token)\n",
      "sleep 10\n",
      "\n",
      "# Save info in GCP Secrets\n",
      "gcloud secrets create root_token_europe-southwest1_ftn3 --replication-policy=\"automatic\" --project=hc-ef850f7ac0e04fa581e54b3fba8\n",
      "echo -n $VAULT_TOKEN | gcloud secrets versions add root_token_europe-southwest1_ftn3 --project=hc-ef850f7ac0e04fa581e54b3fba8 --data-file=-\n",
      "gcloud secrets create vault_init_data_europe-southwest1_ftn3 --replication-policy=\"automatic\" --project=hc-ef850f7ac0e04fa581e54b3fba8\n",
      "cat output.json | gcloud secrets versions add vault_init_data_europe-southwest1_ftn3 --project=hc-ef850f7ac0e04fa581e54b3fba8 --data-file=-\n",
      "rm output.json\n",
      "rm root.token\n",
      "\n",
      "# Enable Audit Logging\n",
      "vault audit enable file file_path=/vault/audit/vault.log -path=localfile/\n",
      "vault audit enable -path=stdout file file_path=stdout\n",
      "\n",
      "# Enable Dead Server clean-up, min-quorum should be set in accordance to cluster size\n",
      "vault operator raft autopilot set-config -cleanup-dead-servers=true -dead-server-last-contact-threshold=1m -min-quorum=3\n",
      "\n",
      "# Enable automatic snapshot\n",
      "gcloud iam service-accounts keys create sa-keys__europe-southwest1_ftn3.json --iam-account=europe-southwest1-savault-ftn3@hc-ef850f7ac0e04fa581e54b3fba8.iam.gserviceaccount.com\n",
      "vault write sys/storage/raft/snapshot-auto/config/hourly interval=\"1h\" retain=10 path_prefix=\"snapshots/\" storage_type=google-gcs google_gcs_bucket=gcs-vault-snapshot-ftn3 google_service_account_key=\"@sa-keys__europe-southwest1_ftn3.json\"\n",
      "rm sa-keys__europe-southwest1_ftn3.json\n",
      "# ===========================\n",
      "# ---------------------------\n",
      "\n",
      "EOT\n",
      "vault_read_vault_token = \"gcloud secrets versions access latest --secret=root_token_europe-southwest1_ftn3 --project=hc-ef850f7ac0e04fa581e54b3fba8\"\n",
      "vpc_id = \"projects/hc-ef850f7ac0e04fa581e54b3fba8/global/networks/europe-southwest1-ss9a\"\n"
     ]
    }
   ],
   "source": [
    "! terraform output"
   ]
  },
  {
   "cell_type": "markdown",
   "metadata": {},
   "source": [
    "# Init Boundary"
   ]
  },
  {
   "cell_type": "code",
   "execution_count": 3,
   "metadata": {},
   "outputs": [
    {
     "name": "stderr",
     "output_type": "stream",
     "text": [
      "mkdir: init_boundary: File exists\n"
     ]
    }
   ],
   "source": [
    "%%bash\n",
    "mkdir init_boundary\n",
    "cat << EOF > ./init_boundary/main.tf \n",
    "# https://developer.hashicorp.com/boundary/docs/install-boundary/initialize#create-your-first-login-account\n",
    "provider \"boundary\" {\n",
    "  addr             = \"$(terraform output -raw boundary_fqdn_443)\"\n",
    "  tls_insecure     = true\n",
    "  recovery_kms_hcl = <<EOT\n",
    "    kms \"gcpckms\" {\n",
    "    purpose     = \"recovery\"\n",
    "    key_ring    = \"$(terraform output -raw key_ring)\"\n",
    "    crypto_key  = \"$(terraform output -raw crypto_key)\"\n",
    "    project     = \"$(terraform output -raw project)\"\n",
    "    region      = \"$(terraform output -raw location)\"\n",
    "    }\n",
    "EOT\n",
    "}\n",
    "\n",
    "resource \"boundary_auth_method\" \"password\" {\n",
    "  name        = \"Password auth method\"\n",
    "  description = \"Password auth method\"\n",
    "  type        = \"password\"\n",
    "  scope_id    = \"global\"\n",
    "}\n",
    "\n",
    "resource \"boundary_account_password\" \"myuser\" {\n",
    "  name           = \"admin\"\n",
    "  description    = \"User account for adminr\"\n",
    "  login_name     = var.boundary_user\n",
    "  password       = var.boundary_password\n",
    "  auth_method_id = boundary_auth_method.password.id\n",
    "}\n",
    "\n",
    "resource \"boundary_user\" \"myuser\" {\n",
    "  name        = \"admin\"\n",
    "  description = \"Initial Admin User\"\n",
    "  account_ids = [boundary_account_password.myuser.id]\n",
    "  scope_id    = \"global\"\n",
    "}\n",
    "\n",
    "resource \"boundary_role\" \"org_admin\" {\n",
    "  scope_id        = \"global\"\n",
    "  grant_scope_ids = [\"global\"]\n",
    "  grant_strings = [\n",
    "    \"ids=*;type=*;actions=*\"\n",
    "  ]\n",
    "  principal_ids = [boundary_user.myuser.id]\n",
    "}\n",
    "\n",
    "output \"auth_method\" {\n",
    "  value = boundary_auth_method.password.id\n",
    "}\n",
    "\n",
    "EOF\n",
    "\n",
    "cat << EOF > ./init_boundary/variables.tf \n",
    "variable \"boundary_user\" {\n",
    "  description = \"Initial Boundary Admin User\"\n",
    "  type        = string\n",
    "}\n",
    "\n",
    "variable \"boundary_password\" {\n",
    "  description = \"Password for Boundary Admin\"\n",
    "  type        = string\n",
    "}\n",
    "EOF\n",
    "\n",
    "cat << EOF > ./init_boundary/variables.tfvars\n",
    "boundary_user        = \"admin\"            #Use your own\n",
    "boundary_password    = \"SuperSecret123!\"  #Use your own\n",
    "EOF"
   ]
  },
  {
   "cell_type": "code",
   "execution_count": 4,
   "metadata": {},
   "outputs": [
    {
     "name": "stdout",
     "output_type": "stream",
     "text": [
      "\n",
      "\u001b[0m\u001b[1mInitializing the backend...\u001b[0m\n",
      "\n",
      "\u001b[0m\u001b[1mInitializing provider plugins...\u001b[0m\n",
      "- Reusing previous version of hashicorp/boundary from the dependency lock file\n",
      "- Using previously-installed hashicorp/boundary v1.1.15\n",
      "\n",
      "\u001b[0m\u001b[1m\u001b[32mTerraform has been successfully initialized!\u001b[0m\u001b[32m\u001b[0m\n",
      "\u001b[0m\u001b[32m\n",
      "You may now begin working with Terraform. Try running \"terraform plan\" to see\n",
      "any changes that are required for your infrastructure. All Terraform commands\n",
      "should now work.\n",
      "\n",
      "If you ever set or change modules or backend configuration for Terraform,\n",
      "rerun this command to reinitialize your working directory. If you forget, other\n",
      "commands will detect it and remind you to do so if necessary.\u001b[0m\n",
      "\u001b[0m\u001b[1mboundary_auth_method.password: Refreshing state... [id=ampw_HEbVjxX920]\u001b[0m\n",
      "\u001b[0m\u001b[1mboundary_account_password.myuser: Refreshing state... [id=acctpw_pLXwRagE4R]\u001b[0m\n",
      "\u001b[0m\u001b[1mboundary_user.myuser: Refreshing state... [id=u_krUHOBRyZv]\u001b[0m\n",
      "\u001b[0m\u001b[1mboundary_role.org_admin: Refreshing state... [id=r_6ugxQY4ktZ]\u001b[0m\n",
      "\n",
      "\u001b[1m\u001b[36mNote:\u001b[0m\u001b[1m Objects have changed outside of Terraform\n",
      "\u001b[0m\n",
      "Terraform detected the following changes made outside of Terraform since the\n",
      "last \"terraform apply\" which may have affected this plan:\n",
      "\n",
      "\u001b[1m  # boundary_account_password.myuser\u001b[0m has been deleted\n",
      "\u001b[0m  \u001b[31m-\u001b[0m\u001b[0m resource \"boundary_account_password\" \"myuser\" {\n",
      "      \u001b[31m-\u001b[0m\u001b[0m id             = \"acctpw_pLXwRagE4R\" \u001b[90m-> null\u001b[0m\u001b[0m\n",
      "        name           = \"admin\"\n",
      "        \u001b[90m# (5 unchanged attributes hidden)\u001b[0m\u001b[0m\n",
      "    }\n",
      "\n",
      "\u001b[1m  # boundary_auth_method.password\u001b[0m has been deleted\n",
      "\u001b[0m  \u001b[31m-\u001b[0m\u001b[0m resource \"boundary_auth_method\" \"password\" {\n",
      "      \u001b[31m-\u001b[0m\u001b[0m id                    = \"ampw_HEbVjxX920\" \u001b[90m-> null\u001b[0m\u001b[0m\n",
      "        name                  = \"Password auth method\"\n",
      "        \u001b[90m# (5 unchanged attributes hidden)\u001b[0m\u001b[0m\n",
      "    }\n",
      "\n",
      "\u001b[1m  # boundary_user.myuser\u001b[0m has been deleted\n",
      "\u001b[0m  \u001b[31m-\u001b[0m\u001b[0m resource \"boundary_user\" \"myuser\" {\n",
      "      \u001b[31m-\u001b[0m\u001b[0m id          = \"u_krUHOBRyZv\" \u001b[90m-> null\u001b[0m\u001b[0m\n",
      "        name        = \"admin\"\n",
      "        \u001b[90m# (3 unchanged attributes hidden)\u001b[0m\u001b[0m\n",
      "    }\n",
      "\n",
      "\n",
      "Unless you have made equivalent changes to your configuration, or ignored the\n",
      "relevant attributes using ignore_changes, the following plan may include\n",
      "actions to undo or respond to these changes.\n",
      "\u001b[90m\n",
      "─────────────────────────────────────────────────────────────────────────────\u001b[0m\n",
      "\n",
      "Terraform used the selected providers to generate the following execution\n",
      "plan. Resource actions are indicated with the following symbols:\n",
      "  \u001b[32m+\u001b[0m create\u001b[0m\n",
      "\n",
      "Terraform will perform the following actions:\n",
      "\n",
      "\u001b[1m  # boundary_account_password.myuser\u001b[0m will be created\n",
      "\u001b[0m  \u001b[32m+\u001b[0m\u001b[0m resource \"boundary_account_password\" \"myuser\" {\n",
      "      \u001b[32m+\u001b[0m\u001b[0m auth_method_id = (known after apply)\n",
      "      \u001b[32m+\u001b[0m\u001b[0m description    = \"User account for adminr\"\n",
      "      \u001b[32m+\u001b[0m\u001b[0m id             = (known after apply)\n",
      "      \u001b[32m+\u001b[0m\u001b[0m login_name     = \"admin\"\n",
      "      \u001b[32m+\u001b[0m\u001b[0m name           = \"admin\"\n",
      "      \u001b[32m+\u001b[0m\u001b[0m password       = (sensitive value)\n",
      "      \u001b[32m+\u001b[0m\u001b[0m type           = \"password\"\n",
      "    }\n",
      "\n",
      "\u001b[1m  # boundary_auth_method.password\u001b[0m will be created\n",
      "\u001b[0m  \u001b[32m+\u001b[0m\u001b[0m resource \"boundary_auth_method\" \"password\" {\n",
      "      \u001b[32m+\u001b[0m\u001b[0m description           = \"Password auth method\"\n",
      "      \u001b[32m+\u001b[0m\u001b[0m id                    = (known after apply)\n",
      "      \u001b[32m+\u001b[0m\u001b[0m min_login_name_length = (known after apply)\n",
      "      \u001b[32m+\u001b[0m\u001b[0m min_password_length   = (known after apply)\n",
      "      \u001b[32m+\u001b[0m\u001b[0m name                  = \"Password auth method\"\n",
      "      \u001b[32m+\u001b[0m\u001b[0m scope_id              = \"global\"\n",
      "      \u001b[32m+\u001b[0m\u001b[0m type                  = \"password\"\n",
      "    }\n",
      "\n",
      "\u001b[1m  # boundary_role.org_admin\u001b[0m will be created\n",
      "\u001b[0m  \u001b[32m+\u001b[0m\u001b[0m resource \"boundary_role\" \"org_admin\" {\n",
      "      \u001b[32m+\u001b[0m\u001b[0m grant_scope_id  = (known after apply)\n",
      "      \u001b[32m+\u001b[0m\u001b[0m grant_scope_ids = [\n",
      "          \u001b[32m+\u001b[0m\u001b[0m \"global\",\n",
      "        ]\n",
      "      \u001b[32m+\u001b[0m\u001b[0m grant_strings   = [\n",
      "          \u001b[32m+\u001b[0m\u001b[0m \"ids=*;type=*;actions=*\",\n",
      "        ]\n",
      "      \u001b[32m+\u001b[0m\u001b[0m id              = (known after apply)\n",
      "      \u001b[32m+\u001b[0m\u001b[0m principal_ids   = (known after apply)\n",
      "      \u001b[32m+\u001b[0m\u001b[0m scope_id        = \"global\"\n",
      "    }\n",
      "\n",
      "\u001b[1m  # boundary_user.myuser\u001b[0m will be created\n",
      "\u001b[0m  \u001b[32m+\u001b[0m\u001b[0m resource \"boundary_user\" \"myuser\" {\n",
      "      \u001b[32m+\u001b[0m\u001b[0m account_ids = (known after apply)\n",
      "      \u001b[32m+\u001b[0m\u001b[0m description = \"Initial Admin User\"\n",
      "      \u001b[32m+\u001b[0m\u001b[0m id          = (known after apply)\n",
      "      \u001b[32m+\u001b[0m\u001b[0m name        = \"admin\"\n",
      "      \u001b[32m+\u001b[0m\u001b[0m scope_id    = \"global\"\n",
      "    }\n",
      "\n",
      "\u001b[1mPlan:\u001b[0m 4 to add, 0 to change, 0 to destroy.\n",
      "\u001b[0m\n",
      "Changes to Outputs:\n",
      "  \u001b[33m~\u001b[0m\u001b[0m auth_method = \"ampw_HEbVjxX920\" -> (known after apply)\n",
      "\u001b[0m\u001b[1mboundary_auth_method.password: Creating...\u001b[0m\u001b[0m\n",
      "\u001b[0m\u001b[1mboundary_auth_method.password: Creation complete after 1s [id=ampw_gQ4JIUrNgc]\u001b[0m\n",
      "\u001b[0m\u001b[1mboundary_account_password.myuser: Creating...\u001b[0m\u001b[0m\n",
      "\u001b[0m\u001b[1mboundary_account_password.myuser: Creation complete after 1s [id=acctpw_uLlLFJmn82]\u001b[0m\n",
      "\u001b[0m\u001b[1mboundary_user.myuser: Creating...\u001b[0m\u001b[0m\n",
      "\u001b[0m\u001b[1mboundary_user.myuser: Creation complete after 0s [id=u_6cZjKkl33C]\u001b[0m\n",
      "\u001b[0m\u001b[1mboundary_role.org_admin: Creating...\u001b[0m\u001b[0m\n",
      "\u001b[0m\u001b[1mboundary_role.org_admin: Creation complete after 2s [id=r_oSOoRoWIzn]\u001b[0m\n",
      "\u001b[0m\u001b[1m\u001b[32m\n",
      "Apply complete! Resources: 4 added, 0 changed, 0 destroyed.\n",
      "\u001b[0m\u001b[0m\u001b[1m\u001b[32m\n",
      "Outputs:\n",
      "\n",
      "\u001b[0mauth_method = \"ampw_gQ4JIUrNgc\"\n"
     ]
    }
   ],
   "source": [
    "%%bash\n",
    "cd init_boundary\n",
    "terraform init\n",
    "terraform apply --auto-approve --var-file=variables.tfvars"
   ]
  },
  {
   "cell_type": "markdown",
   "metadata": {},
   "source": [
    "#### Run in a terminal in directory ```GCP_Playground/4_Simple_Boundary_Demo/1_Infra_internal_vault_internal_boundary```\n",
    "```bash\n",
    "gcloud auth login\n",
    "export VAULT_ADDR=$(terraform output -raw vault_fqdn_8200)\n",
    "export BOUNDARY_ADDR=$(terraform output -raw boundary_fqdn_443)\n",
    "export VAULT_SKIP_TLS=true\n",
    "export VAULT_TOKEN=$($(eval \"terraform output -raw vault_read_vault_token\"); echo) #The extra echo is due to how zsh cd orks\n",
    "export TF_VAR_vault_addr=$(echo $VAULT_ADDR)\n",
    "export TF_VAR_authmethod=$(terraform output -state=./init_boundary/terraform.tfstate -raw auth_method)\n",
    "boundary authenticate password -auth-method-id $(terraform output -state=./init_boundary/terraform.tfstate -raw auth_method)\n",
    "```\n"
   ]
  },
  {
   "cell_type": "markdown",
   "metadata": {},
   "source": [
    "## To destroy configuration"
   ]
  },
  {
   "cell_type": "code",
   "execution_count": null,
   "metadata": {},
   "outputs": [],
   "source": [
    "%%bash\n",
    "cd init_boundary\n",
    "terraform destroy --auto-approve --var-file=variables.tfvars"
   ]
  }
 ],
 "metadata": {
  "kernelspec": {
   "display_name": "base",
   "language": "python",
   "name": "python3"
  },
  "language_info": {
   "codemirror_mode": {
    "name": "ipython",
    "version": 3
   },
   "file_extension": ".py",
   "mimetype": "text/x-python",
   "name": "python",
   "nbconvert_exporter": "python",
   "pygments_lexer": "ipython3",
   "version": "3.9.13"
  }
 },
 "nbformat": 4,
 "nbformat_minor": 2
}
