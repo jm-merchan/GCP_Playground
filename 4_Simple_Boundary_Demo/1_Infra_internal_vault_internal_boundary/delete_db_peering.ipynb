{
 "cells": [
  {
   "cell_type": "markdown",
   "metadata": {},
   "source": [
    "## Remove database and peering"
   ]
  },
  {
   "cell_type": "code",
   "execution_count": 3,
   "metadata": {},
   "outputs": [
    {
     "name": "stderr",
     "output_type": "stream",
     "text": [
      "Your browser has been opened to visit:\n",
      "\n",
      "    https://accounts.google.com/o/oauth2/auth?response_type=code&client_id=32555940559.apps.googleusercontent.com&redirect_uri=http%3A%2F%2Flocalhost%3A8085%2F&scope=openid+https%3A%2F%2Fwww.googleapis.com%2Fauth%2Fuserinfo.email+https%3A%2F%2Fwww.googleapis.com%2Fauth%2Fcloud-platform+https%3A%2F%2Fwww.googleapis.com%2Fauth%2Fappengine.admin+https%3A%2F%2Fwww.googleapis.com%2Fauth%2Fsqlservice.login+https%3A%2F%2Fwww.googleapis.com%2Fauth%2Fcompute+https%3A%2F%2Fwww.googleapis.com%2Fauth%2Faccounts.reauth&state=qdzX0jVX6aSb6GIZ2rsrFtiOexycF0&access_type=offline&code_challenge=xgXjwKin8r2dA33P91Zw4Ve851S4cooazds6jUyO6UE&code_challenge_method=S256\n",
      "\n",
      "\n",
      "You are now logged in as [jose.merchan@hashicorp.com].\n",
      "Your current project is [None].  You can change this setting by running:\n",
      "  $ gcloud config set project PROJECT_ID\n",
      "All of the instance data will be lost when the instance is deleted.\n",
      "\n",
      "Do you want to continue (Y/n)?  \n",
      "Deleting Cloud SQL instance...\n",
      "......done.\n",
      "Deleted [https://sqladmin.googleapis.com/sql/v1beta4/projects/hc-3a75ea921bc74d7a92c108b2f36/instances/europe-southwest1-postgres-instance-wbs3].\n"
     ]
    }
   ],
   "source": [
    "%%bash\n",
    "# In case of authentication failures\n",
    "# Make sure SQL Admin API is enable\n",
    "gcloud auth login\n",
    "eval \"$(terraform output -raw remove_database_before_destroy)\""
   ]
  },
  {
   "cell_type": "code",
   "execution_count": 4,
   "metadata": {},
   "outputs": [
    {
     "name": "stderr",
     "output_type": "stream",
     "text": [
      "Updated [https://www.googleapis.com/compute/v1/projects/hc-3a75ea921bc74d7a92c108b2f36/global/networks/europe-southwest1-u2sj].\n"
     ]
    }
   ],
   "source": [
    "%%bash\n",
    "eval \"$(terraform output -raw remove_peering_before_destroy)\""
   ]
  },
  {
   "cell_type": "markdown",
   "metadata": {},
   "source": [
    "## Remove the rest"
   ]
  },
  {
   "cell_type": "code",
   "execution_count": null,
   "metadata": {},
   "outputs": [],
   "source": [
    "%%bash\n",
    "# In case of authentication failures\n",
    "# gcloud auth application-default login\n",
    "terraform destroy -var-file=variables.tfvars --auto-approve"
   ]
  }
 ],
 "metadata": {
  "kernelspec": {
   "display_name": "base",
   "language": "python",
   "name": "python3"
  },
  "language_info": {
   "codemirror_mode": {
    "name": "ipython",
    "version": 3
   },
   "file_extension": ".py",
   "mimetype": "text/x-python",
   "name": "python",
   "nbconvert_exporter": "python",
   "pygments_lexer": "ipython3",
   "version": "3.9.13"
  }
 },
 "nbformat": 4,
 "nbformat_minor": 2
}
